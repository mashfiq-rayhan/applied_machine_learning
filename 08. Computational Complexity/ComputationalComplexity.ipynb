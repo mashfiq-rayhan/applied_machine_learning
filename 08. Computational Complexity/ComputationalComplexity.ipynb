{
 "cells": [
  {
   "cell_type": "markdown",
   "id": "2d1c18f6",
   "metadata": {},
   "source": [
    "### 08. Computational Complexity"
   ]
  },
  {
   "cell_type": "markdown",
   "id": "9f918865",
   "metadata": {},
   "source": [
    "#### 8.1 - Space and Time Complexity: Find largest number in a list"
   ]
  },
  {
   "cell_type": "markdown",
   "id": "2b978bd5",
   "metadata": {},
   "source": [
    "* **Explanation:** Iterate through the list once, keeping track of the largest number found so far.\n",
    "* **Time Complexity:** O(n) — every element must be checked once, so the number of operations grows linearly with the size of the list.\n",
    "* **Space Complexity:** O(1) — only one variable to store the current maximum.\n",
    "* **Python:**"
   ]
  },
  {
   "cell_type": "code",
   "execution_count": null,
   "id": "931eabb0",
   "metadata": {},
   "outputs": [],
   "source": [
    "def find_largest(lst):\n",
    "    max_val = lst[0]\n",
    "    for num in lst:\n",
    "        if num > max_val:\n",
    "            max_val = num\n",
    "    return max_val"
   ]
  },
  {
   "cell_type": "code",
   "execution_count": null,
   "id": "d400697f",
   "metadata": {},
   "outputs": [],
   "source": [
    "import numpy as np\n",
    "import random\n",
    "\n",
    "l = list(range(100))\n",
    "random.shuffle(l)\n",
    "\n",
    "l"
   ]
  },
  {
   "cell_type": "code",
   "execution_count": null,
   "id": "7a07d54f",
   "metadata": {},
   "outputs": [],
   "source": [
    "# search for an elemnt q in the list: O(n) where n is the length of the list\n",
    "q = 31\n",
    "isFound=False;\n",
    "for ele in l:\n",
    "    if ele==31:\n",
    "        print(\"Found\")\n",
    "        isFound=True\n",
    "        break;\n",
    "if isFound == False:\n",
    "    print(\"Not Found\")"
   ]
  },
  {
   "cell_type": "markdown",
   "id": "662e5cc2",
   "metadata": {},
   "source": [
    "#### 8.2 - Binary Search"
   ]
  },
  {
   "cell_type": "markdown",
   "id": "8b9b65aa",
   "metadata": {},
   "source": [
    "* **Explanation:** Efficiently searches a **sorted** list by repeatedly dividing the search space in half until the target is found or the search space is empty.\n",
    "* **Time Complexity:** O(log n) — each comparison halves the number of elements to search; after k steps, 2^k elements remain, so the steps needed ≈ log2(n).\n",
    "* **Space Complexity:** O(1) iterative / O(log n) recursive — iterative uses constant variables, recursive uses stack proportional to depth.\n",
    "* **Python (iterative):**"
   ]
  },
  {
   "cell_type": "code",
   "execution_count": null,
   "id": "675b5ec2",
   "metadata": {},
   "outputs": [],
   "source": [
    "def binary_search(lst, target):\n",
    "    low, high = 0, len(lst)-1\n",
    "    while low <= high:\n",
    "        mid = (low + high) // 2\n",
    "        if lst[mid] == target:\n",
    "            return mid\n",
    "        elif lst[mid] < target:\n",
    "            low = mid + 1\n",
    "        else:\n",
    "            high = mid - 1\n",
    "    return -1"
   ]
  },
  {
   "cell_type": "code",
   "execution_count": null,
   "id": "797495e5",
   "metadata": {},
   "outputs": [],
   "source": [
    "#What if the list is sorted? Can we search faster?\n",
    "# Show O(log n)\n",
    "import math\n",
    "#Source: http://www.geeksforgeeks.org/binary-search/ \n",
    "#Returns index of x in arr if present, else -1\n",
    "def binarySearch (arr, l, r, x):\n",
    "    # Check base case\n",
    "    if r >= l:\n",
    "        mid = l + math.floor((r - l)/2)\n",
    "        # If element is present at the middle itself\n",
    "        if arr[mid] == x:\n",
    "            return mid\n",
    "        # If element is smaller than mid, then it can only\n",
    "        # be present in left subarray\n",
    "        elif arr[mid] > x:\n",
    "            return binarySearch(arr, l, mid-1, x)\n",
    "        # Else the element can only be present in right subarray\n",
    "        else:\n",
    "            return binarySearch(arr, mid+1, r, x)\n",
    "    else:\n",
    "        # Element is not present in the array\n",
    "        return -1\n",
    "\n",
    "l.sort();\n",
    "arr = l;\n",
    "q =31;\n",
    "binarySearch(arr,0,len(arr)-1,q)"
   ]
  },
  {
   "cell_type": "markdown",
   "id": "f668bb59",
   "metadata": {},
   "source": [
    "#### 8.3 - Find elements common in two lists"
   ]
  },
  {
   "cell_type": "markdown",
   "id": "905c56a4",
   "metadata": {},
   "source": [
    "* **Explanation:** Compare each element of the first list with every element of the second list to find matches.\n",
    "* **Time Complexity:** O(n\\*m) — for each of n elements in the first list, we check m elements in the second list; total operations grow multiplicatively with list sizes.\n",
    "* **Space Complexity:** O(1) if no extra storage, O(min(n,m)) if storing results.\n",
    "* **Python:**"
   ]
  },
  {
   "cell_type": "code",
   "execution_count": null,
   "id": "095e1193",
   "metadata": {},
   "outputs": [],
   "source": [
    "def common_elements(list1, list2):\n",
    "    result = []\n",
    "    for x in list1:\n",
    "        if x in list2:\n",
    "            result.append(x)\n",
    "    return result"
   ]
  },
  {
   "cell_type": "code",
   "execution_count": null,
   "id": "1282366c",
   "metadata": {},
   "outputs": [],
   "source": [
    "# Find elements common in two lists:\n",
    "l1 = list(range(100))\n",
    "random.shuffle(l1)\n",
    "\n",
    "l2 = list(range(50))\n",
    "random.shuffle(l2)\n",
    "\n",
    "# find common elements : O(n*m)\n",
    "cnt=0;\n",
    "for i in l1:\n",
    "    for j in l2:\n",
    "        if i==j:\n",
    "            print(i)\n",
    "            cnt += 1;\n",
    "print(\"Number of common elements:\", cnt)                      "
   ]
  },
  {
   "cell_type": "markdown",
   "id": "228a54a3",
   "metadata": {},
   "source": [
    "#### 8.4 - Find elements common in two lists using Hashtable/Dict"
   ]
  },
  {
   "cell_type": "markdown",
   "id": "78a5b9d4",
   "metadata": {},
   "source": [
    "* **Explanation:** Use a hash set to store elements of the first list; then for each element of the second list, checking existence is O(1) on average, avoiding nested loops.\n",
    "* **Time Complexity:** O(n + m) — O(n) to build the hash set for the first list, plus O(m) to check each element of the second list.\n",
    "* **Space Complexity:** O(n) — storing all n elements of the first list in a hash set.\n",
    "* **Python:**"
   ]
  },
  {
   "cell_type": "code",
   "execution_count": null,
   "id": "1ad2617e",
   "metadata": {},
   "outputs": [],
   "source": [
    "def common_elements_hash(list1, list2):\n",
    "    hash_set = set(list1)\n",
    "    return [x for x in list2 if x in hash_set]"
   ]
  },
  {
   "cell_type": "code",
   "execution_count": null,
   "id": "95814424",
   "metadata": {},
   "outputs": [],
   "source": [
    "# Find elements common in two lists:\n",
    "l1 = list(range(100))\n",
    "random.shuffle(l1)\n",
    "\n",
    "l2 = list(range(50))\n",
    "random.shuffle(l2)\n",
    "\n",
    "# find common elemnts in lists in O(n) time and O(m) space if m<n\n",
    "\n",
    "## add all elements in the smallest list into a hashtable/Dict: O(m) space\n",
    "smallList = {}\n",
    "for ele in l2:\n",
    "    smallList[ele] = 1; # any value is OK. Key is important\n",
    "    \n",
    "# Now find common element \n",
    "cnt=0;\n",
    "for i in l1:\n",
    "    if smallList.get(i) != None: # search happens in constant time.\n",
    "        print(i);\n",
    "        cnt += 1;\n",
    "print(\"Number of common elements:\", cnt)                      "
   ]
  }
 ],
 "metadata": {
  "kernelspec": {
   "display_name": "base",
   "language": "python",
   "name": "python3"
  },
  "language_info": {
   "codemirror_mode": {
    "name": "ipython",
    "version": 3
   },
   "file_extension": ".py",
   "mimetype": "text/x-python",
   "name": "python",
   "nbconvert_exporter": "python",
   "pygments_lexer": "ipython3",
   "version": "3.13.5"
  }
 },
 "nbformat": 4,
 "nbformat_minor": 5
}
