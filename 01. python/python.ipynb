{
 "cells": [
  {
   "cell_type": "markdown",
   "id": "d084e1e7",
   "metadata": {},
   "source": [
    "# Python Variable Types Cheat Sheet\n",
    "\n",
    "| **Variable Type**         | **Description**               | **Example**                            | **Type Check**                |\n",
    "| ------------------------- | ----------------------------- | -------------------------------------- | ----------------------------- |\n",
    "| Integer (`int`)           | Whole numbers                 | `age = 25`                             | `type(age)` → `<class 'int'>` |\n",
    "| Float (`float`)           | Decimal numbers               | `price = 99.99`                        | `<class 'float'>`             |\n",
    "| Complex (`complex`)       | Complex numbers               | `z = 2 + 3j`                           | `<class 'complex'>`           |\n",
    "| String (`str`)            | Text                          | `name = \"Mashfiq\"`                     | `<class 'str'>`               |\n",
    "| Boolean (`bool`)          | True/False                    | `is_active = True`                     | `<class 'bool'>`              |\n",
    "| List (`list`)             | Ordered, mutable collection   | `numbers = [1, 2, 3]`                  | `<class 'list'>`              |\n",
    "| Tuple (`tuple`)           | Ordered, immutable collection | `coords = (10, 20)`                    | `<class 'tuple'>`             |\n",
    "| Range (`range`)           | Sequence of numbers           | `nums = range(5)`                      | `<class 'range'>`             |\n",
    "| Set (`set`)               | Unordered, no duplicates      | `unique = {1, 2, 3}`                   | `<class 'set'>`               |\n",
    "| Frozen Set (`frozenset`)  | Immutable version of set      | `fs = frozenset([1,2,3])`              | `<class 'frozenset'>`         |\n",
    "| Dictionary (`dict`)       | Key-value pairs               | `person = {\"name\":\"Mashfiq\",\"age\":25}` | `<class 'dict'>`              |\n",
    "| NoneType (`None`)         | Represents absence of value   | `result = None`                        | `<class 'NoneType'>`          |\n",
    "| Dynamic Variable          | Can change type at runtime    | `var = 10; var = \"Ten\"`                | `type(var)` changes           |\n",
    "| Constant (by convention)  | Value meant not to change     | `PI = 3.14159`                         | `<class 'float'>`             |\n",
    "| Bytes (`bytes`)           | Immutable sequence of bytes   | `b = b\"Hello\"`                         | `<class 'bytes'>`             |\n",
    "| Bytearray (`bytearray`)   | Mutable sequence of bytes     | `ba = bytearray([65,66,67])`           | `<class 'bytearray'>`         |\n",
    "| Memoryview (`memoryview`) | View of byte data             | `mv = memoryview(b\"Hello\")`            | `<class 'memoryview'>`        |\n"
   ]
  },
  {
   "cell_type": "markdown",
   "id": "f7d7f384",
   "metadata": {},
   "source": [
    "### Variables"
   ]
  },
  {
   "cell_type": "markdown",
   "id": "6bafc36a",
   "metadata": {},
   "source": [
    "#### Numeric"
   ]
  },
  {
   "cell_type": "code",
   "execution_count": null,
   "id": "a382a73d",
   "metadata": {},
   "outputs": [],
   "source": [
    "age = 25\n",
    "print(age, type(age))"
   ]
  },
  {
   "cell_type": "code",
   "execution_count": null,
   "id": "19160c23",
   "metadata": {},
   "outputs": [],
   "source": [
    "price = 99.99\n",
    "print(price, type(price))"
   ]
  },
  {
   "cell_type": "code",
   "execution_count": null,
   "id": "3e0a1087",
   "metadata": {},
   "outputs": [],
   "source": [
    "com = 2 + 3j\n",
    "print(com, type(com))"
   ]
  },
  {
   "cell_type": "markdown",
   "id": "48f9fbff",
   "metadata": {},
   "source": [
    "#### String"
   ]
  },
  {
   "cell_type": "code",
   "execution_count": null,
   "id": "811a4c39",
   "metadata": {},
   "outputs": [],
   "source": [
    "name = \"mashfiq\"\n",
    "gretting = \"Hello Data Science\"\n",
    "multi = \"\"\"this is a multiline text\"\"\"\n",
    "\n",
    "print(name, type(name))\n",
    "print(gretting, type(gretting))\n",
    "print(multi, type(multi))"
   ]
  },
  {
   "cell_type": "markdown",
   "id": "cebfa9ed",
   "metadata": {},
   "source": [
    "#### Boolean"
   ]
  },
  {
   "cell_type": "code",
   "execution_count": null,
   "id": "86390619",
   "metadata": {},
   "outputs": [],
   "source": [
    "is_active = True\n",
    "is_admin = False\n",
    "print(is_active, type(is_active))\n",
    "print(is_admin, type(is_admin))"
   ]
  },
  {
   "cell_type": "markdown",
   "id": "5c2c2c9d",
   "metadata": {},
   "source": [
    "### Sequence"
   ]
  },
  {
   "cell_type": "markdown",
   "id": "60c9a70d",
   "metadata": {},
   "source": [
    "#### List"
   ]
  },
  {
   "cell_type": "code",
   "execution_count": null,
   "id": "b2c16d64",
   "metadata": {},
   "outputs": [],
   "source": [
    "numbers = [1, 2, 3, 4, 5]\n",
    "print(numbers, type(numbers))\n",
    "fruits = [\"apple\", \"banana\", \"mango\"]\n",
    "print(fruits, type(fruits))"
   ]
  },
  {
   "cell_type": "markdown",
   "id": "423ce562",
   "metadata": {},
   "source": [
    "#### Tuple"
   ]
  },
  {
   "cell_type": "code",
   "execution_count": null,
   "id": "05bba0c5",
   "metadata": {},
   "outputs": [],
   "source": [
    "coordinates = (10.0, 20.0)\n",
    "print(coordinates, type(coordinates))\n",
    "colors = (\"red\", \"green\", \"blue\")\n",
    "print(colors, type(colors))"
   ]
  },
  {
   "cell_type": "markdown",
   "id": "23be9be6",
   "metadata": {},
   "source": [
    "#### Range"
   ]
  },
  {
   "cell_type": "code",
   "execution_count": null,
   "id": "5a6c3d89",
   "metadata": {},
   "outputs": [],
   "source": [
    "nums = range(0, 5)\n",
    "print(nums, type(nums))\n",
    "print(list(nums), type(nums))"
   ]
  },
  {
   "cell_type": "markdown",
   "id": "34663d79",
   "metadata": {},
   "source": [
    "#### Sets"
   ]
  },
  {
   "cell_type": "code",
   "execution_count": null,
   "id": "26cc5457",
   "metadata": {},
   "outputs": [],
   "source": [
    "unique_nums = {1, 2, 3, 4, 5}\n",
    "print(unique_nums, type(unique_nums))"
   ]
  },
  {
   "cell_type": "markdown",
   "id": "73b2e207",
   "metadata": {},
   "source": [
    "#### Dictionary"
   ]
  },
  {
   "cell_type": "code",
   "execution_count": null,
   "id": "4a291f87",
   "metadata": {},
   "outputs": [],
   "source": [
    "person = {\"name\": \"Mash\", \"age\": 31, \"city\": \"khulna\"}\n",
    "print(person, type(person))\n",
    "print(person[\"name\"])"
   ]
  },
  {
   "cell_type": "markdown",
   "id": "d93a2834",
   "metadata": {},
   "source": [
    "#### NoneType"
   ]
  },
  {
   "cell_type": "code",
   "execution_count": null,
   "id": "237c6f78",
   "metadata": {},
   "outputs": [],
   "source": [
    "result = None\n",
    "print(result, type(result))"
   ]
  },
  {
   "cell_type": "markdown",
   "id": "e94503f8",
   "metadata": {},
   "source": [
    "#### Dynamic Variables"
   ]
  },
  {
   "cell_type": "code",
   "execution_count": null,
   "id": "db960ebf",
   "metadata": {},
   "outputs": [],
   "source": [
    "var = 10\n",
    "var = \"Ten\"\n",
    "var = [10]\n",
    "\n",
    "print(var, type(var))"
   ]
  },
  {
   "cell_type": "markdown",
   "id": "8d1ebd1d",
   "metadata": {},
   "source": [
    "#### Constants"
   ]
  },
  {
   "cell_type": "code",
   "execution_count": null,
   "id": "4d71420c",
   "metadata": {},
   "outputs": [],
   "source": [
    "PI = 3.14159\n",
    "GRAVITY = 9.8\n",
    "\n",
    "print(PI, type(PI))\n",
    "print(GRAVITY, type(GRAVITY))"
   ]
  },
  {
   "cell_type": "markdown",
   "id": "f69fc6b6",
   "metadata": {},
   "source": [
    "#### Type Conversion"
   ]
  },
  {
   "cell_type": "code",
   "execution_count": null,
   "id": "4182a02a",
   "metadata": {},
   "outputs": [],
   "source": [
    "str(20)"
   ]
  },
  {
   "cell_type": "code",
   "execution_count": null,
   "id": "fe53901f",
   "metadata": {},
   "outputs": [],
   "source": [
    "int(20.6)"
   ]
  },
  {
   "cell_type": "code",
   "execution_count": null,
   "id": "eef4161d",
   "metadata": {},
   "outputs": [],
   "source": [
    "float(5)"
   ]
  },
  {
   "cell_type": "markdown",
   "id": "ba3625d3",
   "metadata": {},
   "source": [
    "#### Output Formatting"
   ]
  },
  {
   "cell_type": "code",
   "execution_count": null,
   "id": "55bb6473",
   "metadata": {},
   "outputs": [],
   "source": [
    "a = 10\n",
    "b = 20\n",
    "\n",
    "print(\"The value of a is {} and b is {}\".format(a, b))\n",
    "print(\"The value of b is {1} and a is {0}\".format(a, b))\n",
    "print(\"Hello {name}, {greeting}\".format(name=\"Mash\", greeting=\"Good Morning!\"))"
   ]
  },
  {
   "cell_type": "markdown",
   "id": "d766b734",
   "metadata": {},
   "source": [
    "#### Python Input"
   ]
  },
  {
   "cell_type": "code",
   "execution_count": null,
   "id": "d6f81b2e",
   "metadata": {},
   "outputs": [],
   "source": [
    "num = input(\"Enter a number: \")\n",
    "print(num)"
   ]
  },
  {
   "cell_type": "code",
   "execution_count": null,
   "id": "6c66fbbf",
   "metadata": {},
   "outputs": [],
   "source": [
    "x = 5\n",
    "y = 5\n",
    "\n",
    "print(x is y)\n",
    "\n",
    "print(x is not y)"
   ]
  },
  {
   "cell_type": "code",
   "execution_count": null,
   "id": "d31facec",
   "metadata": {},
   "outputs": [],
   "source": [
    "lst = [1, 2, 3, 4, 5]\n",
    "print(1 in lst)\n",
    "print(1 not in lst)"
   ]
  },
  {
   "cell_type": "markdown",
   "id": "2d2c94b5",
   "metadata": {},
   "source": [
    "### if...else"
   ]
  },
  {
   "cell_type": "code",
   "execution_count": null,
   "id": "be108bb3",
   "metadata": {},
   "outputs": [],
   "source": [
    "num = 10\n",
    "if num == 10:\n",
    "    print(\"Number is positive\")\n",
    "print(\"this will always print\")"
   ]
  },
  {
   "cell_type": "code",
   "execution_count": null,
   "id": "54de7fb4",
   "metadata": {},
   "outputs": [],
   "source": [
    "num = 10\n",
    "\n",
    "if num > 0:\n",
    "    print(\"Positive Number\")\n",
    "else:\n",
    "    print(\"Negative Number\")"
   ]
  },
  {
   "cell_type": "code",
   "execution_count": null,
   "id": "be37aacf",
   "metadata": {},
   "outputs": [],
   "source": [
    "num = 0\n",
    "\n",
    "if num > 0:\n",
    "    print(\"Positive Number\")\n",
    "elif num == 0:\n",
    "    print(\"ZERO\")\n",
    "else:\n",
    "    print(\"Negative Number\")"
   ]
  },
  {
   "cell_type": "code",
   "execution_count": null,
   "id": "ec609644",
   "metadata": {},
   "outputs": [],
   "source": [
    "num = 10.5\n",
    "\n",
    "if num >= 0:\n",
    "    if num == 0:\n",
    "        print(\"ZERO\")\n",
    "    else:\n",
    "        print(\"Positive Number\")\n",
    "else:\n",
    "    print(\"Negative Number\")"
   ]
  },
  {
   "cell_type": "code",
   "execution_count": null,
   "id": "d0b72b41",
   "metadata": {},
   "outputs": [],
   "source": [
    "num1 = 10\n",
    "num2 = 50\n",
    "num3 = 15\n",
    "\n",
    "if (num1 >= num2) and (num1 >= num3):\n",
    "    largest = num1\n",
    "elif (num2 >= num1) and (num2 >= num3):\n",
    "    largest = num2\n",
    "else:\n",
    "    largest = num3\n",
    "\n",
    "print(largest)"
   ]
  },
  {
   "cell_type": "markdown",
   "id": "8ad60c4a",
   "metadata": {},
   "source": [
    "#### while loop"
   ]
  },
  {
   "cell_type": "code",
   "execution_count": null,
   "id": "5fa93695",
   "metadata": {},
   "outputs": [],
   "source": [
    "lst = [10, 20, 30, 40, 50]\n",
    "\n",
    "product = 1\n",
    "index = 0\n",
    "\n",
    "while index < len(lst):\n",
    "    product *= lst[index]\n",
    "    index += 1\n",
    "\n",
    "print(\"Product is : {}\".format(product))"
   ]
  },
  {
   "cell_type": "markdown",
   "id": "81032d97",
   "metadata": {},
   "source": [
    "#### while loop with else"
   ]
  },
  {
   "cell_type": "code",
   "execution_count": null,
   "id": "7ba9ee9d",
   "metadata": {},
   "outputs": [],
   "source": [
    "numbers = [1, 2, 3, 4, 5]\n",
    "index = 0 \n",
    "\n",
    "while index < len(numbers) :\n",
    "    print(numbers[index])\n",
    "    index += 1\n",
    "else:\n",
    "    print(\"No item left in the list\")"
   ]
  },
  {
   "cell_type": "markdown",
   "id": "efc8f516",
   "metadata": {},
   "source": [
    "#### Is Prime"
   ]
  },
  {
   "cell_type": "code",
   "execution_count": null,
   "id": "d6aef496",
   "metadata": {},
   "outputs": [],
   "source": [
    "num = int(input(\"Enter a number: \"))\n",
    "\n",
    "isDivisible = False\n",
    "i = 2\n",
    "\n",
    "while i < num:\n",
    "    if num % i == 0:\n",
    "        isDivisible = True\n",
    "        print(\"{} is divisible by {}\".format(num, i))\n",
    "    i += 1\n",
    "\n",
    "if isDivisible:\n",
    "    print(\"{} is Not a Prime number.\".format(num))\n",
    "else:\n",
    "    print(\"{} is a Prime number.\".format(num))\n",
    "    "
   ]
  },
  {
   "cell_type": "markdown",
   "id": "681b2097",
   "metadata": {},
   "source": [
    "#### for loop"
   ]
  },
  {
   "cell_type": "code",
   "execution_count": null,
   "id": "7c6ebe9c",
   "metadata": {},
   "outputs": [],
   "source": [
    "lst = [10, 20, 30, 40, 50]\n",
    "product = 1\n",
    "\n",
    "for ele in lst:\n",
    "    product *= ele\n",
    "\n",
    "print(product)"
   ]
  },
  {
   "cell_type": "markdown",
   "id": "b5d278d6",
   "metadata": {},
   "source": [
    "#### range()"
   ]
  },
  {
   "cell_type": "code",
   "execution_count": null,
   "id": "acd253d9",
   "metadata": {},
   "outputs": [],
   "source": [
    "for i in range(10):\n",
    "    print(i)"
   ]
  },
  {
   "cell_type": "code",
   "execution_count": null,
   "id": "9e98dc67",
   "metadata": {},
   "outputs": [],
   "source": [
    "for i in range(1, 20, 2):\n",
    "    print(i)"
   ]
  },
  {
   "cell_type": "code",
   "execution_count": null,
   "id": "ed74109e",
   "metadata": {},
   "outputs": [],
   "source": [
    "for i in range(0, 20, 5):\n",
    "    print(i)"
   ]
  },
  {
   "cell_type": "code",
   "execution_count": null,
   "id": "f6767793",
   "metadata": {},
   "outputs": [],
   "source": [
    "lst = [\"Mash\", \"Safa\", \"Nosh\", \"Shad\", \"Rak\", \"Sham\"]\n",
    "\n",
    "for index in range(len(lst)):\n",
    "    print(lst[index])"
   ]
  },
  {
   "cell_type": "markdown",
   "id": "094a019b",
   "metadata": {},
   "source": [
    "#### for loop with else"
   ]
  },
  {
   "cell_type": "code",
   "execution_count": null,
   "id": "44ce6e7e",
   "metadata": {},
   "outputs": [],
   "source": [
    "numbers = [1, 2, 3]\n",
    "\n",
    "for item in numbers:\n",
    "    print(item)\n",
    "else:\n",
    "    print(\"No more items\")"
   ]
  },
  {
   "cell_type": "markdown",
   "id": "9bad228f",
   "metadata": {},
   "source": [
    "#### All The Prime Number between an interval"
   ]
  },
  {
   "cell_type": "code",
   "execution_count": null,
   "id": "15fea315",
   "metadata": {},
   "outputs": [],
   "source": [
    "index1 = int(input(\"Enter Strating point of numbers: \"))\n",
    "index2 = int(input(\"Enter End point of numbers: \"))\n",
    "\n",
    "print(\"Prime numbers between {} and {} are: \".format(index1, index2))\n",
    "\n",
    "for num in range(index1, index2 + 1):\n",
    "    if num > 1:\n",
    "        isDivisible = False\n",
    "        for index in range(2, num):\n",
    "            if num % index == 0:\n",
    "                isDivisible = True\n",
    "        if not isDivisible:\n",
    "            print(num)"
   ]
  },
  {
   "cell_type": "markdown",
   "id": "f7995d61",
   "metadata": {},
   "source": [
    "### Python List Cheat Sheet\n",
    "\n",
    "| **Operation**          | **Description**               | **Example**                             | **Output**                                  |\n",
    "| ---------------------- | ----------------------------- | --------------------------------------- | ------------------------------------------- |\n",
    "| Create a list          | Define with `[]`              | `fruits = [\"apple\", \"banana\", \"mango\"]` | `['apple', 'banana', 'mango']`              |\n",
    "| Access element         | Use index (0-based)           | `fruits[0]`                             | `'apple'`                                   |\n",
    "| Negative index         | Access from end               | `fruits[-1]`                            | `'mango'`                                   |\n",
    "| Slice list             | Get sublist                   | `fruits[0:2]`                           | `['apple', 'banana']`                       |\n",
    "| Append item            | Add at end                    | `fruits.append(\"orange\")`               | `['apple','banana','mango','orange']`       |\n",
    "| Insert item            | Add at specific index         | `fruits.insert(1, \"grape\")`             | `['apple','grape','banana','mango']`        |\n",
    "| Extend list            | Add multiple items            | `fruits.extend([\"kiwi\",\"melon\"])`       | `['apple','banana','mango','kiwi','melon']` |\n",
    "| Remove item (by value) | Remove first matching element | `fruits.remove(\"banana\")`               | `['apple','mango']`                         |\n",
    "| Pop item (by index)    | Remove and return element     | `fruits.pop(1)`                         | returns `'banana'`                          |\n",
    "| Delete item            | Remove by index with `del`    | `del fruits[0]`                         | Removes first element                       |\n",
    "| Clear list             | Remove all items              | `fruits.clear()`                        | `[]`                                        |\n",
    "| Length of list         | Count items                   | `len(fruits)`                           | `3`                                         |\n",
    "| Check existence        | Use `in` keyword              | `\"apple\" in fruits`                     | `True`                                      |\n",
    "| Sort list              | Sort ascending                | `fruits.sort()`                         | Sorted list                                 |\n",
    "| Sort descending        | Sort reverse                  | `fruits.sort(reverse=True)`             | Reverse sorted                              |\n",
    "| Reverse list           | Reverse order                 | `fruits.reverse()`                      | Reversed list                               |\n",
    "| Copy list              | Create shallow copy           | `copy_fruits = fruits.copy()`           | Same list copy                              |\n",
    "| Join lists             | Concatenate lists             | `list1 + list2`                         | Combined list                               |\n",
    "| Repeat list            | Duplicate items               | `fruits * 2`                            | Repeated list                               |\n",
    "| List comprehension     | Create list with expression   | `[x*2 for x in [1,2,3]]`                | `[2, 4, 6]`                                 |\n"
   ]
  },
  {
   "cell_type": "markdown",
   "id": "0e305a24",
   "metadata": {},
   "source": [
    "### Lists"
   ]
  },
  {
   "cell_type": "code",
   "execution_count": null,
   "id": "d22c5b50",
   "metadata": {},
   "outputs": [],
   "source": [
    "lst0 = []\n",
    "\n",
    "lst1 = [\"one\", \"Two\", \"Three\"]\n",
    "\n",
    "lst2 = [1, 2, 3, 4]\n",
    "\n",
    "lst3 = [[1, 2], [3, 4]]\n",
    "\n",
    "lst4 = [1, 'str', 2, 3]"
   ]
  },
  {
   "cell_type": "code",
   "execution_count": null,
   "id": "461ce010",
   "metadata": {},
   "outputs": [],
   "source": [
    "print(len(lst4))"
   ]
  },
  {
   "cell_type": "code",
   "execution_count": null,
   "id": "ac16d171",
   "metadata": {},
   "outputs": [],
   "source": [
    "lst = [\"one\", \"Two\", \"Three\"]\n",
    "lst.append('Four')\n",
    "print(lst)"
   ]
  },
  {
   "cell_type": "code",
   "execution_count": null,
   "id": "12fb14b6",
   "metadata": {},
   "outputs": [],
   "source": [
    "lst = [\"one\", \"Two\", \"Three\"]\n",
    "lst.insert(3, \"Four\")\n",
    "print(lst)"
   ]
  },
  {
   "cell_type": "code",
   "execution_count": null,
   "id": "ea69265d",
   "metadata": {},
   "outputs": [],
   "source": [
    "lst = [\"one\", \"Two\", \"Two\", \"Three\"]\n",
    "lst.remove(\"Two\")\n",
    "print(lst)"
   ]
  },
  {
   "cell_type": "code",
   "execution_count": null,
   "id": "7bf893da",
   "metadata": {},
   "outputs": [],
   "source": [
    "lst1 = [\"one\", \"Two\", \"Two\", \"Three\"]\n",
    "lst2 = [\"Four\", \"Five\"]\n",
    "\n",
    "lst1.append(lst2)\n",
    "print(lst1)"
   ]
  },
  {
   "cell_type": "code",
   "execution_count": null,
   "id": "03fe1d96",
   "metadata": {},
   "outputs": [],
   "source": [
    "lst1 = [\"one\", \"Two\", \"Two\", \"Three\"]\n",
    "lst2 = [\"Four\", \"Five\"]\n",
    "\n",
    "lst1.extend(lst2)\n",
    "print(lst1)"
   ]
  },
  {
   "cell_type": "code",
   "execution_count": null,
   "id": "21d1be43",
   "metadata": {},
   "outputs": [],
   "source": [
    "lst = [\"one\", \"Two\", \"Three\", \"Four\", \"Five\"]\n",
    "del lst[1]\n",
    "print(lst)"
   ]
  },
  {
   "cell_type": "code",
   "execution_count": null,
   "id": "d5c9ec6d",
   "metadata": {},
   "outputs": [],
   "source": [
    "lst = [\"one\", \"Two\", \"Three\", \"Four\", \"Five\"]\n",
    "a = lst.pop(1)\n",
    "print(a)\n",
    "print(lst)"
   ]
  },
  {
   "cell_type": "code",
   "execution_count": null,
   "id": "4648dd52",
   "metadata": {},
   "outputs": [],
   "source": [
    "lst = [\"one\", \"Two\", \"Three\", \"Four\", \"Five\"]\n",
    "\n",
    "if \"Two\" in lst:\n",
    "    print(\"AI\")\n",
    "\n",
    "if \"Six\" not in lst:\n",
    "    print(\"ML\")"
   ]
  },
  {
   "cell_type": "code",
   "execution_count": null,
   "id": "3714dccb",
   "metadata": {},
   "outputs": [],
   "source": [
    "numbers = [3, 1, 6, 2, 8]\n",
    "sorted_lst = sorted(numbers)\n",
    "reverse_sort_lst = sorted(numbers, reverse=True)\n",
    "\n",
    "print(numbers)\n",
    "numbers.sort()\n",
    "\n",
    "print(sorted_lst)\n",
    "print(reverse_sort_lst)\n",
    "print(numbers)"
   ]
  },
  {
   "cell_type": "code",
   "execution_count": null,
   "id": "5403f552",
   "metadata": {},
   "outputs": [],
   "source": [
    "lst = [1, 2, 3, 4, 5]\n",
    "abc = lst\n",
    "abc.append(6)\n",
    "\n",
    "print(abc)\n",
    "print(lst)"
   ]
  },
  {
   "cell_type": "code",
   "execution_count": null,
   "id": "dcca22bf",
   "metadata": {},
   "outputs": [],
   "source": [
    "s = \"one,Two,Three,Four,Five\"\n",
    "slst = s.split(',')\n",
    "print(s)\n",
    "print(slst)"
   ]
  },
  {
   "cell_type": "code",
   "execution_count": null,
   "id": "968224fc",
   "metadata": {},
   "outputs": [],
   "source": [
    "s = \"This is applied AI Course\"\n",
    "split_lst = s.split()\n",
    "print(split_lst)"
   ]
  },
  {
   "cell_type": "code",
   "execution_count": null,
   "id": "d0f2a87d",
   "metadata": {},
   "outputs": [],
   "source": [
    "numbers = [10, 20, 30, 40, 50, 60, 70, 80, 90]\n",
    "print(numbers[:])\n",
    "print(numbers[0:4])\n",
    "print(numbers[::2])\n",
    "print(numbers[2::2])\n"
   ]
  },
  {
   "cell_type": "code",
   "execution_count": null,
   "id": "97f29b25",
   "metadata": {},
   "outputs": [],
   "source": [
    "lst1 = [1, 2, 3, 4]\n",
    "lst2 = [\"Mash\", \"Safa\"]\n",
    "new_lst = lst1 + lst2\n",
    "\n",
    "print(new_lst)"
   ]
  },
  {
   "cell_type": "code",
   "execution_count": null,
   "id": "f9fe7a46",
   "metadata": {},
   "outputs": [],
   "source": [
    "numbers = [1, 2, 3, 1, 3, 4, 2, 5]\n",
    "print(numbers.count(1))\n",
    "print(numbers.count(3))"
   ]
  },
  {
   "cell_type": "code",
   "execution_count": null,
   "id": "a23033f4",
   "metadata": {},
   "outputs": [],
   "source": [
    "for ele in new_lst:\n",
    "    print(ele)"
   ]
  },
  {
   "cell_type": "markdown",
   "id": "07596552",
   "metadata": {},
   "source": [
    "#### List Comprehension"
   ]
  },
  {
   "cell_type": "code",
   "execution_count": null,
   "id": "165ebc3d",
   "metadata": {},
   "outputs": [],
   "source": [
    "sqrs = []\n",
    "\n",
    "for i in range(10):\n",
    "    sqrs.append(i**2)\n",
    "\n",
    "print(sqrs)"
   ]
  },
  {
   "cell_type": "code",
   "execution_count": null,
   "id": "2bc206d4",
   "metadata": {},
   "outputs": [],
   "source": [
    "sqrs = [i**2 for i in range(10)]\n",
    "print(sqrs)"
   ]
  },
  {
   "cell_type": "code",
   "execution_count": null,
   "id": "69e63c93",
   "metadata": {},
   "outputs": [],
   "source": [
    "lst = [-10, -20, 10, 20, 50]\n",
    "new_lst = [i * 2 for i in lst]\n",
    "print(new_lst)\n",
    "\n",
    "new_lst = [i * 2 for i in lst if i >= 0]\n",
    "print(new_lst)\n",
    "\n",
    "new_lst = [(i, i**2) for i in range(10)]\n",
    "print(new_lst)"
   ]
  },
  {
   "cell_type": "code",
   "execution_count": null,
   "id": "13541431",
   "metadata": {},
   "outputs": [],
   "source": [
    "matrix = [\n",
    "    [1, 2, 3, 4],\n",
    "    [5, 6, 7, 8],\n",
    "    [9, 10, 11, 12]\n",
    "]\n",
    "\n",
    "transposed = []\n",
    "\n",
    "for i in range(4):\n",
    "    lst = []\n",
    "    for row in matrix:\n",
    "        lst.append(row[i])\n",
    "    transposed.append(lst)\n",
    "\n",
    "print(transposed)\n",
    "\n"
   ]
  },
  {
   "cell_type": "code",
   "execution_count": null,
   "id": "da246451",
   "metadata": {},
   "outputs": [],
   "source": [
    "transposed = [[row[i] for row in matrix] for i in range(4)]\n",
    "print(transposed)"
   ]
  },
  {
   "cell_type": "code",
   "execution_count": null,
   "id": "9fee4de2",
   "metadata": {},
   "outputs": [],
   "source": []
  }
 ],
 "metadata": {
  "kernelspec": {
   "display_name": "base",
   "language": "python",
   "name": "python3"
  },
  "language_info": {
   "codemirror_mode": {
    "name": "ipython",
    "version": 3
   },
   "file_extension": ".py",
   "mimetype": "text/x-python",
   "name": "python",
   "nbconvert_exporter": "python",
   "pygments_lexer": "ipython3",
   "version": "3.13.5"
  }
 },
 "nbformat": 4,
 "nbformat_minor": 5
}
