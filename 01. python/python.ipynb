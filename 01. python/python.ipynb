{
 "cells": [
  {
   "cell_type": "markdown",
   "id": "836ee60e",
   "metadata": {},
   "source": [
    "![Python Logo](https://upload.wikimedia.org/wikipedia/commons/c/c3/Python-logo-notext.svg)"
   ]
  },
  {
   "cell_type": "markdown",
   "id": "d084e1e7",
   "metadata": {},
   "source": [
    "### Variable Types\n",
    "\n",
    "| **Variable Type**         | **Description**               | **Example**                            | **Type Check**                |\n",
    "| ------------------------- | ----------------------------- | -------------------------------------- | ----------------------------- |\n",
    "| Integer (`int`)           | Whole numbers                 | `age = 25`                             | `type(age)` → `<class 'int'>` |\n",
    "| Float (`float`)           | Decimal numbers               | `price = 99.99`                        | `<class 'float'>`             |\n",
    "| Complex (`complex`)       | Complex numbers               | `z = 2 + 3j`                           | `<class 'complex'>`           |\n",
    "| String (`str`)            | Text                          | `name = \"Mashfiq\"`                     | `<class 'str'>`               |\n",
    "| Boolean (`bool`)          | True/False                    | `is_active = True`                     | `<class 'bool'>`              |\n",
    "| List (`list`)             | Ordered, mutable collection   | `numbers = [1, 2, 3]`                  | `<class 'list'>`              |\n",
    "| Tuple (`tuple`)           | Ordered, immutable collection | `coords = (10, 20)`                    | `<class 'tuple'>`             |\n",
    "| Range (`range`)           | Sequence of numbers           | `nums = range(5)`                      | `<class 'range'>`             |\n",
    "| Set (`set`)               | Unordered, no duplicates      | `unique = {1, 2, 3}`                   | `<class 'set'>`               |\n",
    "| Frozen Set (`frozenset`)  | Immutable version of set      | `fs = frozenset([1,2,3])`              | `<class 'frozenset'>`         |\n",
    "| Dictionary (`dict`)       | Key-value pairs               | `person = {\"name\":\"Mashfiq\",\"age\":25}` | `<class 'dict'>`              |\n",
    "| NoneType (`None`)         | Represents absence of value   | `result = None`                        | `<class 'NoneType'>`          |\n",
    "| Dynamic Variable          | Can change type at runtime    | `var = 10; var = \"Ten\"`                | `type(var)` changes           |\n",
    "| Constant (by convention)  | Value meant not to change     | `PI = 3.14159`                         | `<class 'float'>`             |\n",
    "| Bytes (`bytes`)           | Immutable sequence of bytes   | `b = b\"Hello\"`                         | `<class 'bytes'>`             |\n",
    "| Bytearray (`bytearray`)   | Mutable sequence of bytes     | `ba = bytearray([65,66,67])`           | `<class 'bytearray'>`         |\n",
    "| Memoryview (`memoryview`) | View of byte data             | `mv = memoryview(b\"Hello\")`            | `<class 'memoryview'>`        |\n"
   ]
  },
  {
   "cell_type": "markdown",
   "id": "f7d7f384",
   "metadata": {},
   "source": [
    "### Variables"
   ]
  },
  {
   "cell_type": "markdown",
   "id": "6bafc36a",
   "metadata": {},
   "source": [
    "#### Numeric"
   ]
  },
  {
   "cell_type": "code",
   "execution_count": null,
   "id": "a382a73d",
   "metadata": {},
   "outputs": [],
   "source": [
    "age = 25\n",
    "print(age, type(age))"
   ]
  },
  {
   "cell_type": "code",
   "execution_count": null,
   "id": "19160c23",
   "metadata": {},
   "outputs": [],
   "source": [
    "price = 99.99\n",
    "print(price, type(price))"
   ]
  },
  {
   "cell_type": "code",
   "execution_count": null,
   "id": "3e0a1087",
   "metadata": {},
   "outputs": [],
   "source": [
    "com = 2 + 3j\n",
    "print(com, type(com))"
   ]
  },
  {
   "cell_type": "markdown",
   "id": "48f9fbff",
   "metadata": {},
   "source": [
    "#### String"
   ]
  },
  {
   "cell_type": "code",
   "execution_count": null,
   "id": "811a4c39",
   "metadata": {},
   "outputs": [],
   "source": [
    "name = \"mashfiq\"\n",
    "gretting = \"Hello Data Science\"\n",
    "multi = \"\"\"this is a multiline text\"\"\"\n",
    "\n",
    "print(name, type(name))\n",
    "print(gretting, type(gretting))\n",
    "print(multi, type(multi))"
   ]
  },
  {
   "cell_type": "markdown",
   "id": "cebfa9ed",
   "metadata": {},
   "source": [
    "#### Boolean"
   ]
  },
  {
   "cell_type": "code",
   "execution_count": null,
   "id": "86390619",
   "metadata": {},
   "outputs": [],
   "source": [
    "is_active = True\n",
    "is_admin = False\n",
    "print(is_active, type(is_active))\n",
    "print(is_admin, type(is_admin))"
   ]
  },
  {
   "cell_type": "markdown",
   "id": "5c2c2c9d",
   "metadata": {},
   "source": [
    "### Sequence"
   ]
  },
  {
   "cell_type": "markdown",
   "id": "60c9a70d",
   "metadata": {},
   "source": [
    "#### List"
   ]
  },
  {
   "cell_type": "code",
   "execution_count": null,
   "id": "b2c16d64",
   "metadata": {},
   "outputs": [],
   "source": [
    "numbers = [1, 2, 3, 4, 5]\n",
    "print(numbers, type(numbers))\n",
    "fruits = [\"apple\", \"banana\", \"mango\"]\n",
    "print(fruits, type(fruits))"
   ]
  },
  {
   "cell_type": "markdown",
   "id": "423ce562",
   "metadata": {},
   "source": [
    "#### Tuple"
   ]
  },
  {
   "cell_type": "code",
   "execution_count": null,
   "id": "05bba0c5",
   "metadata": {},
   "outputs": [],
   "source": [
    "coordinates = (10.0, 20.0)\n",
    "print(coordinates, type(coordinates))\n",
    "colors = (\"red\", \"green\", \"blue\")\n",
    "print(colors, type(colors))"
   ]
  },
  {
   "cell_type": "markdown",
   "id": "23be9be6",
   "metadata": {},
   "source": [
    "#### Range"
   ]
  },
  {
   "cell_type": "code",
   "execution_count": null,
   "id": "5a6c3d89",
   "metadata": {},
   "outputs": [],
   "source": [
    "nums = range(0, 5)\n",
    "print(nums, type(nums))\n",
    "print(list(nums), type(nums))"
   ]
  },
  {
   "cell_type": "markdown",
   "id": "34663d79",
   "metadata": {},
   "source": [
    "#### Sets"
   ]
  },
  {
   "cell_type": "code",
   "execution_count": null,
   "id": "26cc5457",
   "metadata": {},
   "outputs": [],
   "source": [
    "unique_nums = {1, 2, 3, 4, 5}\n",
    "print(unique_nums, type(unique_nums))"
   ]
  },
  {
   "cell_type": "markdown",
   "id": "73b2e207",
   "metadata": {},
   "source": [
    "#### Dictionary"
   ]
  },
  {
   "cell_type": "code",
   "execution_count": null,
   "id": "4a291f87",
   "metadata": {},
   "outputs": [],
   "source": [
    "person = {\"name\": \"Mash\", \"age\": 31, \"city\": \"khulna\"}\n",
    "print(person, type(person))\n",
    "print(person[\"name\"])"
   ]
  },
  {
   "cell_type": "markdown",
   "id": "d93a2834",
   "metadata": {},
   "source": [
    "#### NoneType"
   ]
  },
  {
   "cell_type": "code",
   "execution_count": null,
   "id": "237c6f78",
   "metadata": {},
   "outputs": [],
   "source": [
    "result = None\n",
    "print(result, type(result))"
   ]
  },
  {
   "cell_type": "markdown",
   "id": "e94503f8",
   "metadata": {},
   "source": [
    "#### Dynamic Variables"
   ]
  },
  {
   "cell_type": "code",
   "execution_count": null,
   "id": "db960ebf",
   "metadata": {},
   "outputs": [],
   "source": [
    "var = 10\n",
    "var = \"Ten\"\n",
    "var = [10]\n",
    "\n",
    "print(var, type(var))"
   ]
  },
  {
   "cell_type": "markdown",
   "id": "8d1ebd1d",
   "metadata": {},
   "source": [
    "#### Constants"
   ]
  },
  {
   "cell_type": "code",
   "execution_count": null,
   "id": "4d71420c",
   "metadata": {},
   "outputs": [],
   "source": [
    "PI = 3.14159\n",
    "GRAVITY = 9.8\n",
    "\n",
    "print(PI, type(PI))\n",
    "print(GRAVITY, type(GRAVITY))"
   ]
  },
  {
   "cell_type": "markdown",
   "id": "f69fc6b6",
   "metadata": {},
   "source": [
    "#### Type Conversion"
   ]
  },
  {
   "cell_type": "code",
   "execution_count": null,
   "id": "4182a02a",
   "metadata": {},
   "outputs": [],
   "source": [
    "str(20)"
   ]
  },
  {
   "cell_type": "code",
   "execution_count": null,
   "id": "fe53901f",
   "metadata": {},
   "outputs": [],
   "source": [
    "int(20.6)"
   ]
  },
  {
   "cell_type": "code",
   "execution_count": null,
   "id": "eef4161d",
   "metadata": {},
   "outputs": [],
   "source": [
    "float(5)"
   ]
  },
  {
   "cell_type": "markdown",
   "id": "ba3625d3",
   "metadata": {},
   "source": [
    "#### Output Formatting"
   ]
  },
  {
   "cell_type": "code",
   "execution_count": null,
   "id": "55bb6473",
   "metadata": {},
   "outputs": [],
   "source": [
    "a = 10\n",
    "b = 20\n",
    "\n",
    "print(\"The value of a is {} and b is {}\".format(a, b))\n",
    "print(\"The value of b is {1} and a is {0}\".format(a, b))\n",
    "print(\"Hello {name}, {greeting}\".format(name=\"Mash\", greeting=\"Good Morning!\"))"
   ]
  },
  {
   "cell_type": "markdown",
   "id": "d766b734",
   "metadata": {},
   "source": [
    "#### Python Input"
   ]
  },
  {
   "cell_type": "code",
   "execution_count": null,
   "id": "d6f81b2e",
   "metadata": {},
   "outputs": [],
   "source": [
    "num = input(\"Enter a number: \")\n",
    "print(num)"
   ]
  },
  {
   "cell_type": "code",
   "execution_count": null,
   "id": "6c66fbbf",
   "metadata": {},
   "outputs": [],
   "source": [
    "x = 5\n",
    "y = 5\n",
    "\n",
    "print(x is y)\n",
    "\n",
    "print(x is not y)"
   ]
  },
  {
   "cell_type": "code",
   "execution_count": null,
   "id": "d31facec",
   "metadata": {},
   "outputs": [],
   "source": [
    "lst = [1, 2, 3, 4, 5]\n",
    "print(1 in lst)\n",
    "print(1 not in lst)"
   ]
  },
  {
   "cell_type": "markdown",
   "id": "2d2c94b5",
   "metadata": {},
   "source": [
    "### if...else"
   ]
  },
  {
   "cell_type": "code",
   "execution_count": null,
   "id": "be108bb3",
   "metadata": {},
   "outputs": [],
   "source": [
    "num = 10\n",
    "if num == 10:\n",
    "    print(\"Number is positive\")\n",
    "print(\"this will always print\")"
   ]
  },
  {
   "cell_type": "code",
   "execution_count": null,
   "id": "54de7fb4",
   "metadata": {},
   "outputs": [],
   "source": [
    "num = 10\n",
    "\n",
    "if num > 0:\n",
    "    print(\"Positive Number\")\n",
    "else:\n",
    "    print(\"Negative Number\")"
   ]
  },
  {
   "cell_type": "code",
   "execution_count": null,
   "id": "be37aacf",
   "metadata": {},
   "outputs": [],
   "source": [
    "num = 0\n",
    "\n",
    "if num > 0:\n",
    "    print(\"Positive Number\")\n",
    "elif num == 0:\n",
    "    print(\"ZERO\")\n",
    "else:\n",
    "    print(\"Negative Number\")"
   ]
  },
  {
   "cell_type": "code",
   "execution_count": null,
   "id": "ec609644",
   "metadata": {},
   "outputs": [],
   "source": [
    "num = 10.5\n",
    "\n",
    "if num >= 0:\n",
    "    if num == 0:\n",
    "        print(\"ZERO\")\n",
    "    else:\n",
    "        print(\"Positive Number\")\n",
    "else:\n",
    "    print(\"Negative Number\")"
   ]
  },
  {
   "cell_type": "code",
   "execution_count": null,
   "id": "d0b72b41",
   "metadata": {},
   "outputs": [],
   "source": [
    "num1 = 10\n",
    "num2 = 50\n",
    "num3 = 15\n",
    "\n",
    "if (num1 >= num2) and (num1 >= num3):\n",
    "    largest = num1\n",
    "elif (num2 >= num1) and (num2 >= num3):\n",
    "    largest = num2\n",
    "else:\n",
    "    largest = num3\n",
    "\n",
    "print(largest)"
   ]
  },
  {
   "cell_type": "markdown",
   "id": "8ad60c4a",
   "metadata": {},
   "source": [
    "#### while loop"
   ]
  },
  {
   "cell_type": "code",
   "execution_count": null,
   "id": "5fa93695",
   "metadata": {},
   "outputs": [],
   "source": [
    "lst = [10, 20, 30, 40, 50]\n",
    "\n",
    "product = 1\n",
    "index = 0\n",
    "\n",
    "while index < len(lst):\n",
    "    product *= lst[index]\n",
    "    index += 1\n",
    "\n",
    "print(\"Product is : {}\".format(product))"
   ]
  },
  {
   "cell_type": "markdown",
   "id": "81032d97",
   "metadata": {},
   "source": [
    "#### while loop with else"
   ]
  },
  {
   "cell_type": "code",
   "execution_count": null,
   "id": "7ba9ee9d",
   "metadata": {},
   "outputs": [],
   "source": [
    "numbers = [1, 2, 3, 4, 5]\n",
    "index = 0 \n",
    "\n",
    "while index < len(numbers) :\n",
    "    print(numbers[index])\n",
    "    index += 1\n",
    "else:\n",
    "    print(\"No item left in the list\")"
   ]
  },
  {
   "cell_type": "markdown",
   "id": "efc8f516",
   "metadata": {},
   "source": [
    "#### Is Prime"
   ]
  },
  {
   "cell_type": "code",
   "execution_count": null,
   "id": "d6aef496",
   "metadata": {},
   "outputs": [],
   "source": [
    "num = int(input(\"Enter a number: \"))\n",
    "\n",
    "isDivisible = False\n",
    "i = 2\n",
    "\n",
    "while i < num:\n",
    "    if num % i == 0:\n",
    "        isDivisible = True\n",
    "        print(\"{} is divisible by {}\".format(num, i))\n",
    "    i += 1\n",
    "\n",
    "if isDivisible:\n",
    "    print(\"{} is Not a Prime number.\".format(num))\n",
    "else:\n",
    "    print(\"{} is a Prime number.\".format(num))\n",
    "    "
   ]
  },
  {
   "cell_type": "markdown",
   "id": "681b2097",
   "metadata": {},
   "source": [
    "#### for loop"
   ]
  },
  {
   "cell_type": "code",
   "execution_count": null,
   "id": "7c6ebe9c",
   "metadata": {},
   "outputs": [],
   "source": [
    "lst = [10, 20, 30, 40, 50]\n",
    "product = 1\n",
    "\n",
    "for ele in lst:\n",
    "    product *= ele\n",
    "\n",
    "print(product)"
   ]
  },
  {
   "cell_type": "markdown",
   "id": "b5d278d6",
   "metadata": {},
   "source": [
    "#### range()"
   ]
  },
  {
   "cell_type": "code",
   "execution_count": null,
   "id": "acd253d9",
   "metadata": {},
   "outputs": [],
   "source": [
    "for i in range(10):\n",
    "    print(i)"
   ]
  },
  {
   "cell_type": "code",
   "execution_count": null,
   "id": "9e98dc67",
   "metadata": {},
   "outputs": [],
   "source": [
    "for i in range(1, 20, 2):\n",
    "    print(i)"
   ]
  },
  {
   "cell_type": "code",
   "execution_count": null,
   "id": "ed74109e",
   "metadata": {},
   "outputs": [],
   "source": [
    "for i in range(0, 20, 5):\n",
    "    print(i)"
   ]
  },
  {
   "cell_type": "code",
   "execution_count": null,
   "id": "f6767793",
   "metadata": {},
   "outputs": [],
   "source": [
    "lst = [\"Mash\", \"Safa\", \"Nosh\", \"Shad\", \"Rak\", \"Sham\"]\n",
    "\n",
    "for index in range(len(lst)):\n",
    "    print(lst[index])"
   ]
  },
  {
   "cell_type": "markdown",
   "id": "094a019b",
   "metadata": {},
   "source": [
    "#### for loop with else"
   ]
  },
  {
   "cell_type": "code",
   "execution_count": null,
   "id": "44ce6e7e",
   "metadata": {},
   "outputs": [],
   "source": [
    "numbers = [1, 2, 3]\n",
    "\n",
    "for item in numbers:\n",
    "    print(item)\n",
    "else:\n",
    "    print(\"No more items\")"
   ]
  },
  {
   "cell_type": "markdown",
   "id": "9bad228f",
   "metadata": {},
   "source": [
    "#### All The Prime Number between an interval"
   ]
  },
  {
   "cell_type": "code",
   "execution_count": null,
   "id": "15fea315",
   "metadata": {},
   "outputs": [],
   "source": [
    "index1 = int(input(\"Enter Strating point of numbers: \"))\n",
    "index2 = int(input(\"Enter End point of numbers: \"))\n",
    "\n",
    "print(\"Prime numbers between {} and {} are: \".format(index1, index2))\n",
    "\n",
    "for num in range(index1, index2 + 1):\n",
    "    if num > 1:\n",
    "        isDivisible = False\n",
    "        for index in range(2, num):\n",
    "            if num % index == 0:\n",
    "                isDivisible = True\n",
    "        if not isDivisible:\n",
    "            print(num)"
   ]
  },
  {
   "cell_type": "markdown",
   "id": "f7995d61",
   "metadata": {},
   "source": [
    "### List\n",
    "| **Operation**          | **Description**               | **Example**                             | **Output**                                  |\n",
    "| ---------------------- | ----------------------------- | --------------------------------------- | ------------------------------------------- |\n",
    "| Create a list          | Define with `[]`              | `fruits = [\"apple\", \"banana\", \"mango\"]` | `['apple', 'banana', 'mango']`              |\n",
    "| Access element         | Use index (0-based)           | `fruits[0]`                             | `'apple'`                                   |\n",
    "| Negative index         | Access from end               | `fruits[-1]`                            | `'mango'`                                   |\n",
    "| Slice list             | Get sublist                   | `fruits[0:2]`                           | `['apple', 'banana']`                       |\n",
    "| Append item            | Add at end                    | `fruits.append(\"orange\")`               | `['apple','banana','mango','orange']`       |\n",
    "| Insert item            | Add at specific index         | `fruits.insert(1, \"grape\")`             | `['apple','grape','banana','mango']`        |\n",
    "| Extend list            | Add multiple items            | `fruits.extend([\"kiwi\",\"melon\"])`       | `['apple','banana','mango','kiwi','melon']` |\n",
    "| Remove item (by value) | Remove first matching element | `fruits.remove(\"banana\")`               | `['apple','mango']`                         |\n",
    "| Pop item (by index)    | Remove and return element     | `fruits.pop(1)`                         | returns `'banana'`                          |\n",
    "| Delete item            | Remove by index with `del`    | `del fruits[0]`                         | Removes first element                       |\n",
    "| Clear list             | Remove all items              | `fruits.clear()`                        | `[]`                                        |\n",
    "| Length of list         | Count items                   | `len(fruits)`                           | `3`                                         |\n",
    "| Check existence        | Use `in` keyword              | `\"apple\" in fruits`                     | `True`                                      |\n",
    "| Sort list              | Sort ascending                | `fruits.sort()`                         | Sorted list                                 |\n",
    "| Sort descending        | Sort reverse                  | `fruits.sort(reverse=True)`             | Reverse sorted                              |\n",
    "| Reverse list           | Reverse order                 | `fruits.reverse()`                      | Reversed list                               |\n",
    "| Copy list              | Create shallow copy           | `copy_fruits = fruits.copy()`           | Same list copy                              |\n",
    "| Join lists             | Concatenate lists             | `list1 + list2`                         | Combined list                               |\n",
    "| Repeat list            | Duplicate items               | `fruits * 2`                            | Repeated list                               |\n",
    "| List comprehension     | Create list with expression   | `[x*2 for x in [1,2,3]]`                | `[2, 4, 6]`                                 |\n"
   ]
  },
  {
   "cell_type": "markdown",
   "id": "0e305a24",
   "metadata": {},
   "source": [
    "### Lists"
   ]
  },
  {
   "cell_type": "code",
   "execution_count": null,
   "id": "d22c5b50",
   "metadata": {},
   "outputs": [],
   "source": [
    "lst0 = []\n",
    "\n",
    "lst1 = [\"one\", \"Two\", \"Three\"]\n",
    "\n",
    "lst2 = [1, 2, 3, 4]\n",
    "\n",
    "lst3 = [[1, 2], [3, 4]]\n",
    "\n",
    "lst4 = [1, 'str', 2, 3]"
   ]
  },
  {
   "cell_type": "code",
   "execution_count": null,
   "id": "461ce010",
   "metadata": {},
   "outputs": [],
   "source": [
    "print(len(lst4))"
   ]
  },
  {
   "cell_type": "code",
   "execution_count": null,
   "id": "ac16d171",
   "metadata": {},
   "outputs": [],
   "source": [
    "lst = [\"one\", \"Two\", \"Three\"]\n",
    "lst.append('Four')\n",
    "print(lst)"
   ]
  },
  {
   "cell_type": "code",
   "execution_count": null,
   "id": "12fb14b6",
   "metadata": {},
   "outputs": [],
   "source": [
    "lst = [\"one\", \"Two\", \"Three\"]\n",
    "lst.insert(3, \"Four\")\n",
    "print(lst)"
   ]
  },
  {
   "cell_type": "code",
   "execution_count": null,
   "id": "ea69265d",
   "metadata": {},
   "outputs": [],
   "source": [
    "lst = [\"one\", \"Two\", \"Two\", \"Three\"]\n",
    "lst.remove(\"Two\")\n",
    "print(lst)"
   ]
  },
  {
   "cell_type": "code",
   "execution_count": null,
   "id": "7bf893da",
   "metadata": {},
   "outputs": [],
   "source": [
    "lst1 = [\"one\", \"Two\", \"Two\", \"Three\"]\n",
    "lst2 = [\"Four\", \"Five\"]\n",
    "\n",
    "lst1.append(lst2)\n",
    "print(lst1)"
   ]
  },
  {
   "cell_type": "code",
   "execution_count": null,
   "id": "03fe1d96",
   "metadata": {},
   "outputs": [],
   "source": [
    "lst1 = [\"one\", \"Two\", \"Two\", \"Three\"]\n",
    "lst2 = [\"Four\", \"Five\"]\n",
    "\n",
    "lst1.extend(lst2)\n",
    "print(lst1)"
   ]
  },
  {
   "cell_type": "code",
   "execution_count": null,
   "id": "21d1be43",
   "metadata": {},
   "outputs": [],
   "source": [
    "lst = [\"one\", \"Two\", \"Three\", \"Four\", \"Five\"]\n",
    "del lst[1]\n",
    "print(lst)"
   ]
  },
  {
   "cell_type": "code",
   "execution_count": null,
   "id": "d5c9ec6d",
   "metadata": {},
   "outputs": [],
   "source": [
    "lst = [\"one\", \"Two\", \"Three\", \"Four\", \"Five\"]\n",
    "a = lst.pop(1)\n",
    "print(a)\n",
    "print(lst)"
   ]
  },
  {
   "cell_type": "code",
   "execution_count": null,
   "id": "4648dd52",
   "metadata": {},
   "outputs": [],
   "source": [
    "lst = [\"one\", \"Two\", \"Three\", \"Four\", \"Five\"]\n",
    "\n",
    "if \"Two\" in lst:\n",
    "    print(\"AI\")\n",
    "\n",
    "if \"Six\" not in lst:\n",
    "    print(\"ML\")"
   ]
  },
  {
   "cell_type": "code",
   "execution_count": null,
   "id": "3714dccb",
   "metadata": {},
   "outputs": [],
   "source": [
    "numbers = [3, 1, 6, 2, 8]\n",
    "sorted_lst = sorted(numbers)\n",
    "reverse_sort_lst = sorted(numbers, reverse=True)\n",
    "\n",
    "print(numbers)\n",
    "numbers.sort()\n",
    "\n",
    "print(sorted_lst)\n",
    "print(reverse_sort_lst)\n",
    "print(numbers)"
   ]
  },
  {
   "cell_type": "code",
   "execution_count": null,
   "id": "5403f552",
   "metadata": {},
   "outputs": [],
   "source": [
    "lst = [1, 2, 3, 4, 5]\n",
    "abc = lst\n",
    "abc.append(6)\n",
    "\n",
    "print(abc)\n",
    "print(lst)"
   ]
  },
  {
   "cell_type": "code",
   "execution_count": null,
   "id": "dcca22bf",
   "metadata": {},
   "outputs": [],
   "source": [
    "s = \"one,Two,Three,Four,Five\"\n",
    "slst = s.split(',')\n",
    "print(s)\n",
    "print(slst)"
   ]
  },
  {
   "cell_type": "code",
   "execution_count": null,
   "id": "968224fc",
   "metadata": {},
   "outputs": [],
   "source": [
    "s = \"This is applied AI Course\"\n",
    "split_lst = s.split()\n",
    "print(split_lst)"
   ]
  },
  {
   "cell_type": "code",
   "execution_count": null,
   "id": "d0f2a87d",
   "metadata": {},
   "outputs": [],
   "source": [
    "numbers = [10, 20, 30, 40, 50, 60, 70, 80, 90]\n",
    "print(numbers[:])\n",
    "print(numbers[0:4])\n",
    "print(numbers[::2])\n",
    "print(numbers[2::2])\n"
   ]
  },
  {
   "cell_type": "code",
   "execution_count": null,
   "id": "97f29b25",
   "metadata": {},
   "outputs": [],
   "source": [
    "lst1 = [1, 2, 3, 4]\n",
    "lst2 = [\"Mash\", \"Safa\"]\n",
    "new_lst = lst1 + lst2\n",
    "\n",
    "print(new_lst)"
   ]
  },
  {
   "cell_type": "code",
   "execution_count": null,
   "id": "f9fe7a46",
   "metadata": {},
   "outputs": [],
   "source": [
    "numbers = [1, 2, 3, 1, 3, 4, 2, 5]\n",
    "print(numbers.count(1))\n",
    "print(numbers.count(3))"
   ]
  },
  {
   "cell_type": "code",
   "execution_count": null,
   "id": "a23033f4",
   "metadata": {},
   "outputs": [],
   "source": [
    "for ele in new_lst:\n",
    "    print(ele)"
   ]
  },
  {
   "cell_type": "markdown",
   "id": "07596552",
   "metadata": {},
   "source": [
    "#### List Comprehension"
   ]
  },
  {
   "cell_type": "code",
   "execution_count": null,
   "id": "165ebc3d",
   "metadata": {},
   "outputs": [],
   "source": [
    "sqrs = []\n",
    "\n",
    "for i in range(10):\n",
    "    sqrs.append(i**2)\n",
    "\n",
    "print(sqrs)"
   ]
  },
  {
   "cell_type": "code",
   "execution_count": null,
   "id": "2bc206d4",
   "metadata": {},
   "outputs": [],
   "source": [
    "sqrs = [i**2 for i in range(10)]\n",
    "print(sqrs)"
   ]
  },
  {
   "cell_type": "code",
   "execution_count": null,
   "id": "69e63c93",
   "metadata": {},
   "outputs": [],
   "source": [
    "lst = [-10, -20, 10, 20, 50]\n",
    "new_lst = [i * 2 for i in lst]\n",
    "print(new_lst)\n",
    "\n",
    "new_lst = [i * 2 for i in lst if i >= 0]\n",
    "print(new_lst)\n",
    "\n",
    "new_lst = [(i, i**2) for i in range(10)]\n",
    "print(new_lst)"
   ]
  },
  {
   "cell_type": "code",
   "execution_count": null,
   "id": "13541431",
   "metadata": {},
   "outputs": [],
   "source": [
    "matrix = [\n",
    "    [1, 2, 3, 4],\n",
    "    [5, 6, 7, 8],\n",
    "    [9, 10, 11, 12]\n",
    "]\n",
    "\n",
    "transposed = []\n",
    "\n",
    "for i in range(4):\n",
    "    lst = []\n",
    "    for row in matrix:\n",
    "        lst.append(row[i])\n",
    "    transposed.append(lst)\n",
    "\n",
    "print(transposed)\n",
    "\n"
   ]
  },
  {
   "cell_type": "code",
   "execution_count": null,
   "id": "da246451",
   "metadata": {},
   "outputs": [],
   "source": [
    "transposed = [[row[i] for row in matrix] for i in range(4)]\n",
    "print(transposed)"
   ]
  },
  {
   "cell_type": "markdown",
   "id": "923d0d61",
   "metadata": {},
   "source": [
    "### Tuple\n",
    "\n",
    "| **Operation**         | **Description**              | **Example**              | **Output**         |\n",
    "| --------------------- | ---------------------------- | ------------------------ | ------------------ |\n",
    "| Create a tuple        | Define with `()`             | `coords = (10, 20, 30)`  | `(10, 20, 30)`     |\n",
    "| Single element tuple  | Add comma after single value | `single = (5,)`          | `(5,)`             |\n",
    "| Access element        | Use index (0-based)          | `coords[0]`              | `10`               |\n",
    "| Negative index        | Access from end              | `coords[-1]`             | `30`               |\n",
    "| Slice tuple           | Get subtuple                 | `coords[0:2]`            | `(10, 20)`         |\n",
    "| Concatenate tuples    | Combine two tuples           | `(1,2) + (3,4)`          | `(1, 2, 3, 4)`     |\n",
    "| Repeat tuple          | Duplicate items              | `(1,2) * 2`              | `(1, 2, 1, 2)`     |\n",
    "| Check existence       | Use `in` keyword             | `10 in coords`           | `True`             |\n",
    "| Length of tuple       | Count items                  | `len(coords)`            | `3`                |\n",
    "| Tuple unpacking       | Assign elements to variables | `x, y, z = coords`       | `x=10, y=20, z=30` |\n",
    "| Count value           | Count occurrences of value   | `coords.count(10)`       | `1`                |\n",
    "| Index of value        | Find first index of value    | `coords.index(20)`       | `1`                |\n",
    "| Immutable             | Cannot modify after creation | `coords[0] = 5  # Error` | TypeError          |\n",
    "| Convert list to tuple | Use `tuple()`                | `tuple([1,2,3])`         | `(1,2,3)`          |\n",
    "| Nested tuple          | Tuples inside tuples         | `nested = (1,(2,3),4)`   | `(1,(2,3),4)`      |\n"
   ]
  },
  {
   "cell_type": "markdown",
   "id": "810cb27a",
   "metadata": {},
   "source": [
    "#### Tuple"
   ]
  },
  {
   "cell_type": "code",
   "execution_count": null,
   "id": "9fee4de2",
   "metadata": {},
   "outputs": [],
   "source": [
    "t = ()\n",
    "t = (1, 2, 3)\n",
    "t = (1, 2, 3, 'Mash')\n",
    "t = ((1, 2, 3), ('Mash', 'Safa'))"
   ]
  },
  {
   "cell_type": "code",
   "execution_count": null,
   "id": "93bae180",
   "metadata": {},
   "outputs": [],
   "source": [
    "t = ('Mash')\n",
    "print(type(t))\n",
    "\n",
    "t = ('Mash',)\n",
    "print(type(t))"
   ]
  },
  {
   "cell_type": "code",
   "execution_count": null,
   "id": "fab11fc7",
   "metadata": {},
   "outputs": [],
   "source": [
    "t = ('ABC', ('Mash', 'Safa'))\n",
    "print(t[1][0])"
   ]
  },
  {
   "cell_type": "code",
   "execution_count": null,
   "id": "c1f423bf",
   "metadata": {},
   "outputs": [],
   "source": [
    "t = (1,2,3,4,5,6, [1,2,3,4])\n",
    "print(t)\n",
    "print(t[1:4])"
   ]
  },
  {
   "cell_type": "code",
   "execution_count": null,
   "id": "b7f434d5",
   "metadata": {},
   "outputs": [],
   "source": [
    "print(t[6][0])\n",
    "\n",
    "del t"
   ]
  },
  {
   "cell_type": "code",
   "execution_count": null,
   "id": "efc66f1f",
   "metadata": {},
   "outputs": [],
   "source": [
    "t = (1, 2, 3, 1, 3, 3, 4, 1)\n",
    "print(t.count(1))\n",
    "print(t.index(1))\n",
    "print(1 in t)"
   ]
  },
  {
   "cell_type": "code",
   "execution_count": null,
   "id": "e29a80b1",
   "metadata": {},
   "outputs": [],
   "source": [
    "t = (1, 2, 3, 4, 5, 6)\n",
    "print(len(t))"
   ]
  },
  {
   "cell_type": "code",
   "execution_count": null,
   "id": "98145d42",
   "metadata": {},
   "outputs": [],
   "source": [
    "t = (4, 5, 3, 2, 1)\n",
    "nt = sorted(t)\n",
    "print(nt)"
   ]
  },
  {
   "cell_type": "code",
   "execution_count": null,
   "id": "e33060a4",
   "metadata": {},
   "outputs": [],
   "source": [
    "t = (4, 5, 3, 2, 1)\n",
    "print(max(t))\n",
    "print(min(t))\n",
    "print(sum(t))"
   ]
  },
  {
   "cell_type": "markdown",
   "id": "401fcb5e",
   "metadata": {},
   "source": [
    "### Set\n",
    "\n",
    "| **Operation**        | **Description**                        | **Example**                             | **Output**                     |                     |\n",
    "| -------------------- | -------------------------------------- | --------------------------------------- | ------------------------------ | ------------------- |\n",
    "| Create a set         | Define with `{}`                       | `fruits = {\"apple\", \"banana\", \"mango\"}` | `{'apple', 'banana', 'mango'}` |                     |\n",
    "| Add element          | Add single item                        | `fruits.add(\"orange\")`                  | Adds 'orange'                  |                     |\n",
    "| Update set           | Add multiple items                     | `fruits.update([\"kiwi\", \"melon\"])`      | Adds multiple elements         |                     |\n",
    "| Remove element       | Remove item; raises error if missing   | `fruits.remove(\"banana\")`               | Removes 'banana'               |                     |\n",
    "| Discard element      | Remove item; no error if missing       | `fruits.discard(\"banana\")`              | Safe remove                    |                     |\n",
    "| Pop element          | Remove arbitrary element               | `fruits.pop()`                          | Returns removed item           |                     |\n",
    "| Clear set            | Remove all items                       | `fruits.clear()`                        | `set()`                        |                     |\n",
    "| Length of set        | Count items                            | `len(fruits)`                           | `3`                            |                     |\n",
    "| Union                | Combine sets                           | `A.union(B)` or \\`A                     | B\\`                            | All unique elements |\n",
    "| Intersection         | Common elements                        | `A.intersection(B)` or `A & B`          | Elements in both sets          |                     |\n",
    "| Difference           | Elements in A not in B                 | `A.difference(B)` or `A - B`            | Unique to A                    |                     |\n",
    "| Symmetric Difference | Elements in either A or B but not both | `A.symmetric_difference(B)` or `A ^ B`  | Non-overlapping elements       |                     |\n",
    "| Check existence      | Use `in` keyword                       | `'apple' in fruits`                     | `True`                         |                     |\n",
    "| Immutable Set        | `frozenset()`                          | `fs = frozenset([1,2,3])`               | Immutable set                  |                     |\n",
    "| Convert list to set  | Use `set()`                            | `set([1,2,2,3])`                        | `{1,2,3}`                      |                     |\n",
    "| Iterate              | Loop through items                     | `for f in fruits: print(f)`             | Prints elements                |                     |\n"
   ]
  },
  {
   "cell_type": "markdown",
   "id": "6f068c56",
   "metadata": {},
   "source": [
    "### Set"
   ]
  },
  {
   "cell_type": "code",
   "execution_count": null,
   "id": "6b978aba",
   "metadata": {},
   "outputs": [],
   "source": [
    "s = {1, 2, 3}\n",
    "print(type(s))\n",
    "print(s)"
   ]
  },
  {
   "cell_type": "code",
   "execution_count": null,
   "id": "84b06878",
   "metadata": {},
   "outputs": [],
   "source": [
    "s = set([1, 2, 3, 1])\n",
    "print(s)\n",
    "\n",
    "s.add(4)\n",
    "print(s)\n",
    "\n",
    "s.update([5, 6, 1])\n",
    "print(s)\n",
    "\n",
    "s.update([8, 9], {10, 2, 3})\n",
    "print(s)\n",
    "\n",
    "s.discard(1)\n",
    "print(s)\n",
    "\n",
    "s.remove(2)\n",
    "print(s)\n",
    "\n",
    "s.pop()\n",
    "print(s)\n",
    "\n",
    "s.clear()\n",
    "print(s)"
   ]
  },
  {
   "cell_type": "markdown",
   "id": "f3fe08dd",
   "metadata": {},
   "source": [
    "#### Set Operations"
   ]
  },
  {
   "cell_type": "code",
   "execution_count": null,
   "id": "75e2b080",
   "metadata": {},
   "outputs": [],
   "source": [
    "set1 = {1, 2, 3, 4, 5}\n",
    "set2 = {4, 5, 6, 7, 8}\n",
    "\n",
    "print(set1 | set2)\n",
    "print(set1.union(set2))\n",
    "print(set1 & set2)\n",
    "print(set1.intersection(set2))\n",
    "print(set1 - set2)\n",
    "print(set1.difference(set2))\n",
    "print(set1 ^ set2)\n",
    "print(set1.symmetric_difference(set2))\n",
    "print(set1.issubset(set2))\n",
    "print(set2.issubset(set1))\n",
    "\n",
    "set1 = frozenset([1, 2, 3, 4, 5])\n",
    "set2 = frozenset([4, 5, 6, 7, 8])"
   ]
  },
  {
   "cell_type": "markdown",
   "id": "caa961ec",
   "metadata": {},
   "source": [
    "### Dictionary\n",
    "\n",
    "| **Operation**            | **Description**                      | **Example**                                      | **Output**                                    |                   |\n",
    "| ------------------------ | ------------------------------------ | ------------------------------------------------ | --------------------------------------------- | ----------------- |\n",
    "| Create dictionary        | Define with `{}`                     | `person = {\"name\": \"Mashfiq\", \"age\": 25}`        | `{'name': 'Mashfiq', 'age': 25}`              |                   |\n",
    "| Access value             | Get value by key                     | `person[\"name\"]`                                 | `'Mashfiq'`                                   |                   |\n",
    "| Get with default         | Avoid KeyError if key not found      | `person.get(\"gender\", \"N/A\")`                    | `'N/A'`                                       |                   |\n",
    "| Add / Update value       | Assign new or existing key           | `person[\"city\"] = \"Dhaka\"`                       | Adds/updates key                              |                   |\n",
    "| Remove key               | Remove specific key                  | `person.pop(\"age\")`                              | Returns removed value                         |                   |\n",
    "| Remove last item         | Remove last inserted key-value pair  | `person.popitem()`                               | Returns tuple (key, value)                    |                   |\n",
    "| Delete key               | Remove using `del`                   | `del person[\"name\"]`                             | Deletes 'name'                                |                   |\n",
    "| Clear dictionary         | Remove all items                     | `person.clear()`                                 | `{}`                                          |                   |\n",
    "| Length                   | Count number of keys                 | `len(person)`                                    | `2`                                           |                   |\n",
    "| Keys                     | Get all keys                         | `person.keys()`                                  | `dict_keys(['name','age'])`                   |                   |\n",
    "| Values                   | Get all values                       | `person.values()`                                | `dict_values(['Mashfiq',25])`                 |                   |\n",
    "| Items                    | Get key-value pairs                  | `person.items()`                                 | `dict_items([('name','Mashfiq'),('age',25)])` |                   |\n",
    "| Check existence          | Test if key exists                   | `'name' in person`                               | `True`                                        |                   |\n",
    "| Dictionary comprehension | Create dict with expression          | `{x: x**2 for x in (1,2,3)}`                     | `{1: 1, 2: 4, 3: 9}`                          |                   |\n",
    "| Merge dictionaries       | Combine two dicts (Python 3.9+)      | \\`dict1                                          | dict2\\`                                       | Merged dictionary |\n",
    "| Update dictionary        | Update with another dict             | `person.update({\"age\": 30})`                     | Updates 'age' to 30                           |                   |\n",
    "| Copy dictionary          | Shallow copy                         | `new_dict = person.copy()`                       | Same dictionary copy                          |                   |\n",
    "| Nested dictionary        | Dictionary inside another dictionary | `student = {\"info\": {\"name\": \"Ali\", \"age\": 22}}` | Nested dict structure                         |                   |\n"
   ]
  },
  {
   "cell_type": "markdown",
   "id": "25a09e8b",
   "metadata": {},
   "source": [
    "### Dictionary"
   ]
  },
  {
   "cell_type": "code",
   "execution_count": null,
   "id": "9ee043d1",
   "metadata": {},
   "outputs": [],
   "source": [
    "my_dict = {}\n",
    "\n",
    "my_dict = {1: \"abc\", 2: \"xyz\"}\n",
    "print(my_dict)\n",
    "\n",
    "my_dict = {\"name\": \"Mash\", 1: [\"abc\", \"xyz\"]}\n",
    "print(my_dict)\n",
    "\n",
    "my_dict = dict()\n",
    "my_dict = dict([(1, \"abc\"), (2, \"xyz\")])\n",
    "print(my_dict)"
   ]
  },
  {
   "cell_type": "code",
   "execution_count": null,
   "id": "28a918ba",
   "metadata": {},
   "outputs": [],
   "source": [
    "my_dict = {'name': 'Mash', 'age': 31, 'address': 'Khulna'}\n",
    "print(my_dict['name'])\n",
    "print(my_dict)\n",
    "print(my_dict.get('address'))"
   ]
  },
  {
   "cell_type": "code",
   "execution_count": null,
   "id": "5baee8b3",
   "metadata": {},
   "outputs": [],
   "source": [
    "my_dict = {'name': 'Mash', 'age': 31, 'address': 'Khulna'}\n",
    "my_dict['name'] = 'Ray'\n",
    "print(my_dict)\n",
    "my_dict['degree'] = 'BSc CSE'\n",
    "print(my_dict)\n",
    "print(my_dict.get('address'))\n",
    "\n",
    "print(my_dict.pop('age'))\n",
    "print(my_dict)\n",
    "\n",
    "my_dict = {'name': 'Mash', 'age': 31, 'address': 'Khulna'}\n",
    "print(my_dict.popitem())\n",
    "print(my_dict)\n",
    "\n",
    "squares = {2: 4, 3:9, 4:16, 5:25}\n",
    "del squares[2]\n",
    "print(squares)\n",
    "\n",
    "squares.clear()\n",
    "print(squares)\n",
    "\n",
    "del squares\n",
    "# print(squares)"
   ]
  },
  {
   "cell_type": "code",
   "execution_count": null,
   "id": "49ded88a",
   "metadata": {},
   "outputs": [],
   "source": [
    "squares = {2: 4, 3:9, 4:16, 5:25}\n",
    "\n",
    "squares_c = squares.copy()\n",
    "print(squares_c)\n",
    "\n",
    "subjects = {}.fromkeys(['Math', 'English', 'Bangla'], 0)\n",
    "print(subjects)\n",
    "\n",
    "squares = {2: 4, 3:9, 4:16, 5:25}\n",
    "\n",
    "print(squares.items())\n",
    "\n",
    "print(squares.keys())\n",
    "\n",
    "print(squares.values())"
   ]
  },
  {
   "cell_type": "code",
   "execution_count": null,
   "id": "7fd12549",
   "metadata": {},
   "outputs": [],
   "source": [
    "d = {}\n",
    "print(dir(d))"
   ]
  },
  {
   "cell_type": "code",
   "execution_count": null,
   "id": "481d4c73",
   "metadata": {},
   "outputs": [],
   "source": [
    "squares = {2: 4, 3:9, 4:16, 5:25}\n",
    "\n",
    "for pair in squares.items():\n",
    "    print(pair)"
   ]
  },
  {
   "cell_type": "code",
   "execution_count": null,
   "id": "b88f4cb4",
   "metadata": {},
   "outputs": [],
   "source": [
    "d = {\"a\": 1, \"b\": 2, \"c\": 3, \"d\": 4}\n",
    "\n",
    "dnew = {k: v for k, v in d.items() if (v > 2)}\n",
    "print(dnew)"
   ]
  },
  {
   "cell_type": "code",
   "execution_count": null,
   "id": "952ffbcb",
   "metadata": {},
   "outputs": [],
   "source": [
    "d = {\"a\": 1, \"b\": 2, \"c\": 3, \"d\": 4, \"e\": 5}\n",
    "d = {k+'c':v for k,v in d.items() if v > 2}\n",
    "print(d)"
   ]
  },
  {
   "cell_type": "markdown",
   "id": "ab853359",
   "metadata": {},
   "source": [
    "### String\n",
    "\n",
    "| **Operation**     | **Description**                      | **Example**               | **Output**          |\n",
    "| ----------------- | ------------------------------------ | ------------------------- | ------------------- |\n",
    "| Create string     | Use single, double, or triple quotes | `s = \"Hello\"`             | `'Hello'`           |\n",
    "| Multi-line string | Triple quotes                        | \\`s = '''Hello            |                     |\n",
    "| World'''\\`        | Multi-line string                    |                           |                     |\n",
    "| Access character  | Indexing (0-based)                   | `s[0]`                    | `'H'`               |\n",
    "| Negative indexing | Access from end                      | `s[-1]`                   | `'o'`               |\n",
    "| Slice string      | Substring                            | `s[0:5]`                  | `'Hello'`           |\n",
    "| Length            | Count characters                     | `len(s)`                  | `5`                 |\n",
    "| Concatenate       | Join strings                         | `s1 + s2`                 | `'HelloWorld'`      |\n",
    "| Repeat            | Repeat string multiple times         | `s * 3`                   | `'HelloHelloHello'` |\n",
    "| Check substring   | `in` keyword                         | `'ell' in s`              | `True`              |\n",
    "| Uppercase         | Convert to uppercase                 | `s.upper()`               | `'HELLO'`           |\n",
    "| Lowercase         | Convert to lowercase                 | `s.lower()`               | `'hello'`           |\n",
    "| Title Case        | First letter uppercase               | `s.title()`               | `'Hello'`           |\n",
    "| Capitalize        | First character uppercase            | `s.capitalize()`          | `'Hello'`           |\n",
    "| Strip whitespace  | Remove leading/trailing spaces       | `s.strip()`               | `'Hello'`           |\n",
    "| Replace           | Replace substring                    | `s.replace('H','J')`      | `'Jello'`           |\n",
    "| Split             | Split into list                      | `s.split('l')`            | `['He', '', 'o']`   |\n",
    "| Join              | Join iterable into string            | `'-'.join(['a','b','c'])` | `'a-b-c'`           |\n",
    "| Find              | Find index of substring              | `s.find('l')`             | `2`                 |\n",
    "| Count             | Count occurrences of substring       | `s.count('l')`            | `2`                 |\n",
    "| Check start       | Starts with substring                | `s.startswith('He')`      | `True`              |\n",
    "| Check end         | Ends with substring                  | `s.endswith('lo')`        | `True`              |\n",
    "| Format            | Format strings                       | `f'Name: {name}'`         | `'Name: Mashfiq'`   |\n",
    "| Escape characters | `\\n`, `\\t`, `\\'`, `\\\"`, `\\\\`         | `s = 'Hello\\nWorld'`      | Multi-line string   |\n",
    "| Raw string        | Ignore escape characters             | `r'C:\\path\\file'`         | `'C:\\path\\file'`    |\n"
   ]
  },
  {
   "cell_type": "markdown",
   "id": "547a55d2",
   "metadata": {},
   "source": [
    "### String"
   ]
  },
  {
   "cell_type": "code",
   "execution_count": null,
   "id": "e0faff8c",
   "metadata": {},
   "outputs": [],
   "source": [
    "nstr = \"Hello\"\n",
    "\n",
    "print(nstr[0])\n",
    "print(nstr[-1])\n",
    "print(nstr[2:5])"
   ]
  },
  {
   "cell_type": "code",
   "execution_count": null,
   "id": "0d39ec70",
   "metadata": {},
   "outputs": [],
   "source": [
    "s1 = \"Hello\"\n",
    "s2 = \"Mash\"\n",
    "\n",
    "print(s1 + s2)\n",
    "print(s1 * 3)\n"
   ]
  },
  {
   "cell_type": "code",
   "execution_count": null,
   "id": "a3d93228",
   "metadata": {},
   "outputs": [],
   "source": [
    "count = 0\n",
    "for l in 'Hello World':\n",
    "    if l == 'o':\n",
    "        count+=1\n",
    "        \n",
    "print(count)\n",
    "\n",
    "print('l' in 'hello world')\n",
    "print('or' in 'hello world')"
   ]
  },
  {
   "cell_type": "code",
   "execution_count": null,
   "id": "664daef8",
   "metadata": {},
   "outputs": [],
   "source": [
    "astr = \"This is a String\"\n",
    "\n",
    "print(astr.lower())\n",
    "print(astr.upper())\n",
    "print(astr.split())\n",
    "print(' '.join(['This', 'is', 'a', 'String']))\n",
    "print('-'.join(['This', 'is', 'a', 'String']))\n",
    "print(astr.find('Str'))\n",
    "print(astr.replace('String', \"Sentence\"))\n"
   ]
  },
  {
   "cell_type": "code",
   "execution_count": null,
   "id": "7e6e02f4",
   "metadata": {},
   "outputs": [],
   "source": [
    "myStr = \"MadaM\"\n",
    "\n",
    "myStr = myStr.lower()\n",
    "\n",
    "revStr = reversed(myStr)\n",
    "\n",
    "if list(myStr) == list(revStr):\n",
    "    print(\"This is a palindrome!\")\n",
    "else:\n",
    "    print(\"This is not a palindrome!\")"
   ]
  },
  {
   "cell_type": "code",
   "execution_count": null,
   "id": "968b776e",
   "metadata": {},
   "outputs": [],
   "source": [
    "myStr = \"python Program to Sort words in Alphabetic Order\"\n",
    "\n",
    "words = myStr.split()\n",
    "\n",
    "swords = sorted(words)\n",
    "print(swords)\n",
    "\n",
    "words.sort()\n",
    "print(words)\n",
    "\n",
    "for word in words:\n",
    "    print(word)"
   ]
  },
  {
   "cell_type": "markdown",
   "id": "f7ed784c",
   "metadata": {},
   "source": [
    "### Functions\n",
    "\n",
    "| **Function Type / Operation**     | **Description**                           | **Syntax / Example**                             | **Output / Notes**                               |\n",
    "| --------------------------------- | ----------------------------------------- | ------------------------------------------------ | ------------------------------------------------ |\n",
    "| Regular function                  | Define with `def`                         | `def greet(): return 'Hello'`                    | Function object; call with `greet()` → `'Hello'` |\n",
    "| Function with parameters          | Accept input values                       | `def add(a, b): return a+b`                      | `add(2,3)` → `5`                                 |\n",
    "| Default parameters                | Parameter has default value               | `def add(a, b=10): return a+b`                   | `add(5)` → `15`                                  |\n",
    "| Keyword arguments                 | Specify parameter by name                 | `add(b=5,a=3)`                                   | `8`                                              |\n",
    "| Arbitrary positional arguments    | Accept variable number of arguments       | `def func(*args): return sum(args)`              | `func(1,2,3)` → `6`                              |\n",
    "| Arbitrary keyword arguments       | Accept variable number of named arguments | `def func(**kwargs): return kwargs`              | `func(a=1,b=2)` → `{'a':1,'b':2}`                |\n",
    "| Return multiple values            | Return tuple of values                    | `def f(): return 1,2,3`                          | `(1,2,3)`                                        |\n",
    "| Lambda (anonymous) function       | Inline single-expression function         | `f = lambda x: x*2`                              | `f(5)` → `10`                                    |\n",
    "| Function annotations / type hints | Provide type hints                        | `def add(a:int,b:int)->int: return a+b`          | Type hints only                                  |\n",
    "| Nested function                   | Define function inside another function   | `def outer(): def inner(): pass`                 | Inner accessible only within outer               |\n",
    "| Recursion                         | Function calling itself                   | `def fact(n): return 1 if n==0 else n*fact(n-1)` | `fact(5)` → `120`                                |\n",
    "| Higher-order function             | Function as argument or return value      | `map(lambda x:x*2,[1,2,3])`                      | `[2,4,6]`                                        |\n",
    "| Decorator                         | Modify or enhance another function        | \\`@decorator                                     |                                                  |\n",
    "| def f(): pass\\`                   | Modified function                         |                                                  |                                                  |\n",
    "| Docstring                         | Documentation string for function         | `def f(): \"\"\"Docs\"\"\"`                            | Access via `f.__doc__`                           |\n"
   ]
  },
  {
   "cell_type": "markdown",
   "id": "7117d82c",
   "metadata": {},
   "source": [
    "### Functions"
   ]
  },
  {
   "cell_type": "code",
   "execution_count": null,
   "id": "87ad0a6e",
   "metadata": {},
   "outputs": [],
   "source": [
    "def print_name(name):\n",
    "    \"\"\"\n",
    "    This Function prints a name\n",
    "    \"\"\"\n",
    "    print(name)\n",
    "    \n",
    "print_name('Mash')"
   ]
  },
  {
   "cell_type": "code",
   "execution_count": null,
   "id": "b621ad89",
   "metadata": {},
   "outputs": [],
   "source": [
    "def add(a, b=10):\n",
    "    return a + b\n",
    "\n",
    "x = add(5, 6)\n",
    "print(x)\n",
    "\n",
    "x = add(5)\n",
    "print(x)"
   ]
  },
  {
   "cell_type": "code",
   "execution_count": null,
   "id": "f137d7df",
   "metadata": {},
   "outputs": [],
   "source": [
    "def sums(*args):\n",
    "    return sum(args)\n",
    "\n",
    "x = sums(1, 2, 3, 4, 5, 6)\n",
    "print(x)"
   ]
  },
  {
   "cell_type": "code",
   "execution_count": null,
   "id": "263a647e",
   "metadata": {},
   "outputs": [],
   "source": [
    "def computeHCF(a, b):\n",
    "    smaller = b if a > b else a\n",
    "    hcf = 1\n",
    "    \n",
    "    for i in range(1, smaller+1):\n",
    "        if (a % i == 0) and (b % i == 0):\n",
    "            hcf = i\n",
    "    \n",
    "    return hcf\n",
    "\n",
    "x = computeHCF(50, 60)\n",
    "print(x)"
   ]
  },
  {
   "cell_type": "markdown",
   "id": "68c34d1e",
   "metadata": {},
   "source": [
    "### Types of Functions\n",
    "\n",
    "Python functions can be broadly classified into the following types:\n",
    "\n",
    "| **Function Type**                 | **Description**                                                         | **Example**                                      |\n",
    "| --------------------------------- | ----------------------------------------------------------------------- | ------------------------------------------------ |\n",
    "| Built-in Functions                | Predefined functions provided by Python                                 | `len()`, `print()`, `type()`, `sum()`            |\n",
    "| User-defined Functions            | Functions defined by the user using `def` keyword                       | `def greet(): return 'Hello'`                    |\n",
    "| Anonymous / Lambda Functions      | Single-expression, unnamed functions                                    | `f = lambda x: x*2`                              |\n",
    "| Recursive Functions               | Functions that call themselves                                          | `def fact(n): return 1 if n==0 else n*fact(n-1)` |\n",
    "| Higher-order Functions            | Functions that take other functions as arguments or return functions    | `map(lambda x:x*2,[1,2,3])`                      |\n",
    "| Nested / Inner Functions          | Functions defined inside another function                               | `def outer(): def inner(): pass`                 |\n",
    "| Generator Functions               | Functions that yield values one at a time using `yield`                 | `def gen(): yield 1`                             |\n",
    "| Decorator Functions               | Functions that modify/enhance other functions                           | \\`@decorator                                     |\n",
    "| def f(): pass\\`                   |                                                                         |                                                  |\n",
    "| Coroutine Functions               | Functions that can pause and resume execution using `async` and `await` | `async def fetch(): await task()`                |\n",
    "| Class / Static / Instance Methods | Functions defined inside a class                                        | `class A: def method(self): pass`                |\n"
   ]
  },
  {
   "cell_type": "markdown",
   "id": "9cdea01f",
   "metadata": {},
   "source": [
    "### Built-in Functions\n",
    "\n",
    "| **Category**         | **Function**                                         | **Description**                                            | **Example**                       | **Output**      |\n",
    "| -------------------- | ---------------------------------------------------- | ---------------------------------------------------------- | --------------------------------- | --------------- |\n",
    "| Type Conversion      | `int()`, `float()`, `str()`, `bool()`                | Convert values between types                               | `int('10')`                       | `10`            |\n",
    "| Numeric              | `abs()`, `round()`, `pow()`, `divmod()`              | Absolute, rounding, power, division remainder              | `abs(-5)`                         | `5`             |\n",
    "| Sequence             | `len()`, `max()`, `min()`, `sum()`, `sorted()`       | Work on sequences like list, tuple, string                 | `len([1,2,3])`                    | `3`             |\n",
    "| Iterables            | `all()`, `any()`, `enumerate()`, `zip()`             | Check conditions, iterate with index, pair sequences       | `all([True, False])`              | `False`         |\n",
    "| Object/Introspection | `type()`, `id()`, `isinstance()`, `dir()`, `help()`  | Inspect object type, memory, attributes                    | `type(5)`                         | `<class 'int'>` |\n",
    "| Input/Output         | `print()`, `input()`, `open()`, `repr()`, `format()` | Output, read input, file operations                        | `print('Hello')`                  | `Hello`         |\n",
    "| Functional           | `map()`, `filter()`, `reduce()`, `sorted()`          | Apply functions on iterables                               | `list(map(lambda x:x*2,[1,2,3]))` | `[2,4,6]`       |\n",
    "| Others               | `range()`, `eval()`, `exec()`, `chr()`, `ord()`      | Generate sequences, evaluate strings, char code conversion | `range(3)`                        | `0,1,2`         |\n"
   ]
  },
  {
   "cell_type": "code",
   "execution_count": null,
   "id": "6961533f",
   "metadata": {},
   "outputs": [],
   "source": [
    "x = -100\n",
    "print(abs(x))\n",
    "\n",
    "lst = [1, 2, 3, 4]\n",
    "print(all(lst))\n",
    "\n",
    "lst = [0, 1, 2, 3, 4]\n",
    "print(all(lst))\n",
    "\n",
    "lst = []\n",
    "print(all(lst))\n",
    "\n",
    "lst = [False, 1, 2]\n",
    "print(all(lst))"
   ]
  },
  {
   "cell_type": "code",
   "execution_count": null,
   "id": "fba3a3fb",
   "metadata": {},
   "outputs": [],
   "source": [
    "numbers = [1, 2, 3]\n",
    "print(dir(numbers))"
   ]
  },
  {
   "cell_type": "code",
   "execution_count": null,
   "id": "bd4c3552",
   "metadata": {},
   "outputs": [],
   "source": [
    "print(divmod(27,7))"
   ]
  },
  {
   "cell_type": "code",
   "execution_count": null,
   "id": "53395875",
   "metadata": {},
   "outputs": [],
   "source": [
    "numbers = [10, 20, 30, 40, 50]\n",
    "for index,num in enumerate(numbers):\n",
    "    print(index, \"---\", num)\n",
    "\n",
    "numbers = [10, 20, 30, 40, 50]\n",
    "for index,num in enumerate(numbers, 10):\n",
    "    print(index, \"---\", num)"
   ]
  },
  {
   "cell_type": "code",
   "execution_count": null,
   "id": "91059101",
   "metadata": {},
   "outputs": [],
   "source": [
    "lst = [1, 2, 3, 4, 5]\n",
    "print(isinstance(lst, list))\n",
    "\n",
    "t = (1, 2, 3, 4, 5)\n",
    "print(isinstance(t, list))"
   ]
  },
  {
   "cell_type": "markdown",
   "id": "24a1e832",
   "metadata": {},
   "source": [
    "### Filter"
   ]
  },
  {
   "cell_type": "code",
   "execution_count": null,
   "id": "c9917148",
   "metadata": {},
   "outputs": [],
   "source": [
    "def posnum(x):\n",
    "    if x > 0:\n",
    "        return x"
   ]
  },
  {
   "cell_type": "code",
   "execution_count": null,
   "id": "3b1bdaed",
   "metadata": {},
   "outputs": [],
   "source": [
    "number_list = range(-10, 10)\n",
    "print(list(number_list))\n",
    "\n",
    "pos = list(filter(lambda x: x > 0, number_list))\n",
    "print(pos)\n",
    "\n",
    "pos = list(filter(posnum, number_list))\n",
    "print(pos)"
   ]
  },
  {
   "cell_type": "markdown",
   "id": "05bdfe97",
   "metadata": {},
   "source": [
    "### Map"
   ]
  },
  {
   "cell_type": "code",
   "execution_count": null,
   "id": "ae99a79c",
   "metadata": {},
   "outputs": [],
   "source": [
    "numbers = [1, 2, 3, 4, 5]\n",
    "\n",
    "def power2(num):\n",
    "    return num**2\n",
    "\n",
    "squared = list(map(power2, numbers))\n",
    "print(squared)\n",
    "\n",
    "squared = list(map(lambda x: x ** 2, numbers))\n",
    "print(squared)"
   ]
  },
  {
   "cell_type": "markdown",
   "id": "d6e7050d",
   "metadata": {},
   "source": [
    "### Reduce"
   ]
  },
  {
   "cell_type": "code",
   "execution_count": null,
   "id": "d61c19ad",
   "metadata": {},
   "outputs": [],
   "source": [
    "from functools import reduce\n",
    "\n",
    "numbers = [1, 2, 3, 4, 5]\n",
    "\n",
    "\n",
    "def reducedsum(x, y):\n",
    "    return x + y\n",
    "\n",
    "\n",
    "squared = reduce(reducedsum, numbers)\n",
    "print(squared)\n",
    "\n",
    "squared = reduce(lambda x, y: x + y, numbers)\n",
    "print(squared)"
   ]
  },
  {
   "cell_type": "markdown",
   "id": "70f41400",
   "metadata": {},
   "source": [
    "### Recursion"
   ]
  },
  {
   "cell_type": "code",
   "execution_count": null,
   "id": "bc4179af",
   "metadata": {},
   "outputs": [],
   "source": [
    "def factorial(num):\n",
    "    return 1 if num == 1 else (num * factorial(num-1))\n",
    "\n",
    "result = factorial(10)\n",
    "print(result)"
   ]
  },
  {
   "cell_type": "markdown",
   "id": "8e8514a1",
   "metadata": {},
   "source": [
    "### Fibonacci"
   ]
  },
  {
   "cell_type": "code",
   "execution_count": null,
   "id": "1c2f939b",
   "metadata": {},
   "outputs": [],
   "source": [
    "def fibonacci(num):\n",
    "    return num if num <= 1 else fibonacci(num - 1) + fibonacci(num - 2)\n",
    "\n",
    "\n",
    "nterms = 10\n",
    "print(range(nterms))\n",
    "print(list(range(nterms)))\n",
    "\n",
    "print(\"Fibonacci Sequence: \")\n",
    "for num in range(nterms):\n",
    "    print(fibonacci(num))"
   ]
  },
  {
   "cell_type": "markdown",
   "id": "96cf720b",
   "metadata": {},
   "source": [
    "### Lambda"
   ]
  },
  {
   "cell_type": "code",
   "execution_count": null,
   "id": "64f8886f",
   "metadata": {},
   "outputs": [],
   "source": [
    "double = lambda x : x * 2\n",
    "print(double(10))\n",
    "square = lambda x : x ** 2\n",
    "print(square(10))\n",
    "\n",
    "lst = [1, 2, 3, 4, 5, 6, 7, 8, 9, 10]\n",
    "\n",
    "evn = list(filter(lambda x: (x % 2 == 0), lst))\n",
    "print(evn)\n",
    "\n",
    "sqr = list(map(lambda x: x ** 2, lst))\n",
    "print(sqr)\n",
    "\n",
    "from functools import reduce\n",
    "add = reduce(lambda x, y: x + y, lst)\n",
    "print(add)\n"
   ]
  },
  {
   "cell_type": "markdown",
   "id": "df6d51ef",
   "metadata": {},
   "source": [
    "### Modules"
   ]
  },
  {
   "cell_type": "markdown",
   "id": "7c0012bf",
   "metadata": {},
   "source": [
    "\n",
    "| **Module**        | **Description**                                     | **Example Usage**                                                   |\n",
    "| ----------------- | --------------------------------------------------- | ------------------------------------------------------------------- |\n",
    "| `os`              | Interact with operating system (files, directories) | `import os; os.getcwd()`                                            |\n",
    "| `sys`             | System-specific parameters and functions            | `import sys; sys.argv`                                              |\n",
    "| `math`            | Mathematical functions                              | `import math; math.sqrt(16)`                                        |\n",
    "| `random`          | Generate random numbers                             | `import random; random.randint(1,10)`                               |\n",
    "| `datetime`        | Work with dates and times                           | `from datetime import date; date.today()`                           |\n",
    "| `time`            | Time-related functions                              | `import time; time.sleep(2)`                                        |\n",
    "| `re`              | Regular expressions                                 | `import re; re.findall(r'\\d+', 'abc123')`                           |\n",
    "| `json`            | Parse and generate JSON data                        | `import json; json.dumps({'a':1})`                                  |\n",
    "| `csv`             | Read/write CSV files                                | `import csv; csv.reader(open('file.csv'))`                          |\n",
    "| `collections`     | Specialized container datatypes                     | `from collections import Counter`                                   |\n",
    "| `itertools`       | Functions creating iterators                        | `import itertools; itertools.permutations([1,2,3])`                 |\n",
    "| `functools`       | Higher-order functions and operations               | `from functools import reduce`                                      |\n",
    "| `os.path`         | Path manipulation                                   | `import os.path; os.path.join('a','b')`                             |\n",
    "| `subprocess`      | Run and manage subprocesses                         | `import subprocess; subprocess.run(['ls'])`                         |\n",
    "| `urllib`          | Work with URLs                                      | `from urllib import request; request.urlopen('http://example.com')` |\n",
    "| `requests`        | HTTP requests (3rd-party library)                   | `import requests; requests.get('http://example.com')`               |\n",
    "| `tkinter`         | GUI development                                     | `import tkinter; tkinter.Tk()`                                      |\n",
    "| `socket`          | Network programming                                 | `import socket; socket.socket()`                                    |\n",
    "| `logging`         | Logging facility                                    | `import logging; logging.info('message')`                           |\n",
    "| `pickle`          | Object serialization                                | `import pickle; pickle.dump(obj, file)`                             |\n",
    "| `threading`       | Multithreading                                      | `import threading; threading.Thread(target=func)`                   |\n",
    "| `multiprocessing` | Multi-process parallelism                           | `import multiprocessing; multiprocessing.Process(target=func)`      |\n",
    "| `math`            | Advanced math functions                             | `import math; math.factorial(5)`                                    |\n",
    "| `statistics`      | Statistical functions                               | `import statistics; statistics.mean([1,2,3])`                       |\n",
    "\n",
    "---\n",
    "\n",
    "> **Tip:** Use `help(module_name)` in Python to see all functions and classes available in that module.\n"
   ]
  },
  {
   "cell_type": "code",
   "execution_count": null,
   "id": "c1110ab7",
   "metadata": {},
   "outputs": [],
   "source": [
    "import math\n",
    "help(math)"
   ]
  },
  {
   "cell_type": "code",
   "execution_count": null,
   "id": "a259dafa",
   "metadata": {},
   "outputs": [],
   "source": [
    "import datetime\n",
    "help(datetime)"
   ]
  },
  {
   "cell_type": "code",
   "execution_count": null,
   "id": "634aad45",
   "metadata": {},
   "outputs": [],
   "source": [
    "from math import *\n",
    "dir(math)\n",
    "help(math)"
   ]
  },
  {
   "cell_type": "markdown",
   "id": "083ba88b",
   "metadata": {},
   "source": [
    "### Exception Handling\n",
    "\n",
    "#### Basic Try/Except\n",
    "\n",
    "```python\n",
    "try:\n",
    "    x = 1 / 0\n",
    "except ZeroDivisionError:\n",
    "    print('Cannot divide by zero')\n",
    "```\n",
    "\n",
    "#### Catch Multiple Exceptions\n",
    "\n",
    "```python\n",
    "try:\n",
    "    x = int('abc')\n",
    "except (ValueError, TypeError) as e:\n",
    "    print('Error:', e)\n",
    "```\n",
    "\n",
    "#### Catch All Exceptions (Not Recommended)\n",
    "\n",
    "```python\n",
    "try:\n",
    "    risky_operation()\n",
    "except Exception as e:\n",
    "    print('Error:', e)\n",
    "```\n",
    "\n",
    "#### Else Clause\n",
    "\n",
    "```python\n",
    "try:\n",
    "    result = 10 / 2\n",
    "except ZeroDivisionError:\n",
    "    print('Error')\n",
    "else:\n",
    "    print('Result is', result)\n",
    "```\n",
    "\n",
    "#### Finally Clause\n",
    "\n",
    "```python\n",
    "try:\n",
    "    f = open('file.txt', 'r')\n",
    "except FileNotFoundError:\n",
    "    print('File not found')\n",
    "finally:\n",
    "    print('This block always executes')\n",
    "```\n",
    "\n",
    "#### Raising Exceptions\n",
    "\n",
    "```python\n",
    "def validate_age(age):\n",
    "    if age < 0:\n",
    "        raise ValueError('Age cannot be negative')\n",
    "    return age\n",
    "\n",
    "validate_age(-5)\n",
    "```\n",
    "\n",
    "#### Custom Exceptions\n",
    "\n",
    "```python\n",
    "class CustomError(Exception):\n",
    "    pass\n",
    "\n",
    "try:\n",
    "    raise CustomError('This is a custom error')\n",
    "except CustomError as e:\n",
    "    print(e)\n",
    "```\n",
    "\n",
    "#### Common Built-in Exceptions\n",
    "\n",
    "| Exception           | Description                   |\n",
    "| ------------------- | ----------------------------- |\n",
    "| `Exception`         | Base class for all exceptions |\n",
    "| `ZeroDivisionError` | Division by zero              |\n",
    "| `ValueError`        | Invalid value                 |\n",
    "| `TypeError`         | Invalid type                  |\n",
    "| `IndexError`        | Sequence index out of range   |\n",
    "| `KeyError`          | Dictionary key not found      |\n",
    "| `FileNotFoundError` | File not found                |\n",
    "| `IOError`           | Input/output error            |\n",
    "| `ImportError`       | Module import failed          |\n",
    "| `AttributeError`    | Attribute not found           |\n",
    "\n",
    "#### Best Practices\n",
    "\n",
    "* Catch specific exceptions rather than all.\n",
    "* Use `finally` for cleanup (like closing files).\n",
    "* Use `else` to run code only if no exception occurred.\n",
    "* Raise exceptions with meaningful messages.\n"
   ]
  },
  {
   "cell_type": "markdown",
   "id": "98bcbe6f",
   "metadata": {},
   "source": [
    "### File I/O \n",
    "\n",
    "#### Opening a File\n",
    "\n",
    "```python\n",
    "f = open('file.txt', 'r')      # read (default)\n",
    "f = open('file.txt', 'w')      # write (overwrite)\n",
    "f = open('file.txt', 'a')      # append\n",
    "f = open('file.txt', 'rb')     # read binary\n",
    "f = open('file.txt', 'wb')     # write binary\n",
    "```\n",
    "\n",
    "#### Closing a File\n",
    "\n",
    "```python\n",
    "f.close()  # always close files when done\n",
    "```\n",
    "\n",
    "#### Using `with` Statement (Recommended)\n",
    "\n",
    "```python\n",
    "with open('file.txt', 'r') as f:\n",
    "    data = f.read()  # automatically closes the file\n",
    "```\n",
    "\n",
    "#### Reading from a File\n",
    "\n",
    "```python\n",
    "f.read(size)          # read 'size' bytes, all if omitted\n",
    "f.readline()          # read one line\n",
    "f.readlines()         # read all lines as a list\n",
    "```\n",
    "\n",
    "##### Example:\n",
    "\n",
    "```python\n",
    "with open('file.txt', 'r') as f:\n",
    "    for line in f:\n",
    "        print(line, end='')\n",
    "```\n",
    "\n",
    "#### Writing to a File\n",
    "\n",
    "```python\n",
    "f.write('Hello')       # write string\n",
    "f.writelines(list_of_strings)  # write multiple lines\n",
    "```\n",
    "\n",
    "##### Example:\n",
    "\n",
    "```python\n",
    "with open('file.txt', 'w') as f:\n",
    "    f.write('Hello World\\n')\n",
    "    f.writelines(['Line1\\n', 'Line2\\n'])\n",
    "```\n",
    "\n",
    "#### File Methods\n",
    "\n",
    "| Method                   | Description                 |\n",
    "| ------------------------ | --------------------------- |\n",
    "| `f.read(size)`           | Read 'size' bytes from file |\n",
    "| `f.readline()`           | Read next line from file    |\n",
    "| `f.readlines()`          | Read all lines into a list  |\n",
    "| `f.write(str)`           | Write string to file        |\n",
    "| `f.writelines(list)`     | Write list of strings       |\n",
    "| `f.flush()`              | Flush internal buffer       |\n",
    "| `f.seek(offset, whence)` | Move file cursor            |\n",
    "| `f.tell()`               | Current file position       |\n",
    "\n",
    "#### File Objects are Iterables\n",
    "\n",
    "```python\n",
    "with open('file.txt') as f:\n",
    "    for line in f:\n",
    "        print(line, end='')\n",
    "```\n",
    "\n",
    "#### Binary Files\n",
    "\n",
    "```python\n",
    "with open('file.bin', 'rb') as f:\n",
    "    data = f.read()\n",
    "with open('file.bin', 'wb') as f:\n",
    "    f.write(b'Binary data')\n",
    "```\n",
    "\n",
    "#### File Buffering\n",
    "\n",
    "```python\n",
    "f = open('file.txt', 'w', buffering=1)  # line buffering\n",
    "```\n",
    "\n",
    "#### Misc Tips\n",
    "\n",
    "* Always use `with` to handle files safely.\n",
    "* Text mode `t` is default.\n",
    "* Binary mode `b` is required for non-text files.\n",
    "* Use `os` module for file operations like remove, rename, path checks.\n"
   ]
  },
  {
   "cell_type": "code",
   "execution_count": null,
   "id": "0cc52bd6",
   "metadata": {},
   "outputs": [],
   "source": [
    "f = open('file.txt')\n",
    "f = open('file.txt', 'r') # read (default)\n",
    "f = open('file.txt', 'w') # write (overwrite)\n",
    "f = open('file.txt', 'a') # append\n",
    "f = open('file.txt', 'rb') # read binary\n",
    "f = open('file.txt', 'wb') # write binary\n",
    "\n",
    "f.read()\n",
    "f.read(4)\n",
    "f.tell()\n",
    "f.seek(4)\n",
    "\n",
    "f.seek(0)\n",
    "for line in f:\n",
    "    print(line)\n",
    "    \n",
    "f.readline()\n",
    "f.readlines()"
   ]
  },
  {
   "cell_type": "markdown",
   "id": "d3906694",
   "metadata": {},
   "source": [
    "### OS File Operations\n",
    "\n",
    "**Rename a File**\n",
    "\n",
    "```python\n",
    "import os\n",
    "os.rename('old_name.txt', 'new_name.txt')\n",
    "```\n",
    "\n",
    "**Remove/Delete a File**\n",
    "\n",
    "```python\n",
    "import os\n",
    "os.remove('file.txt')  # delete file\n",
    "```\n",
    "\n",
    "**Check if File or Directory Exists**\n",
    "\n",
    "```python\n",
    "import os\n",
    "os.path.exists('file.txt')        # True if exists\n",
    "os.path.isfile('file.txt')        # True if it's a file\n",
    "os.path.isdir('folder')            # True if it's a directory\n",
    "```\n",
    "\n",
    "**List Files in a Directory**\n",
    "\n",
    "```python\n",
    "import os\n",
    "os.listdir('.')  # list files and directories in current directory\n",
    "```\n",
    "\n",
    "**Create a Directory**\n",
    "\n",
    "```python\n",
    "import os\n",
    "os.mkdir('new_folder')           # create single directory\n",
    "os.makedirs('folder1/folder2')  # create nested directories\n",
    "```\n",
    "\n",
    "**Remove a Directory**\n",
    "\n",
    "```python\n",
    "import os\n",
    "os.rmdir('folder')               # remove empty directory\n",
    "os.removedirs('folder1/folder2') # remove nested empty directories\n",
    "```\n",
    "\n",
    "**Get Current Working Directory**\n",
    "\n",
    "```python\n",
    "import os\n",
    "cwd = os.getcwd()\n",
    "print(cwd)\n",
    "```\n",
    "\n",
    "**Change Directory**\n",
    "\n",
    "```python\n",
    "import os\n",
    "os.chdir('new_folder')\n",
    "```\n",
    "\n",
    "**Get Absolute Path**\n",
    "\n",
    "```python\n",
    "import os\n",
    "abs_path = os.path.abspath('file.txt')\n",
    "print(abs_path)\n",
    "```\n",
    "\n",
    "**Join Paths Safely**\n",
    "\n",
    "```python\n",
    "import os\n",
    "path = os.path.join('folder', 'file.txt')\n",
    "```\n",
    "\n",
    "**File Size**\n",
    "\n",
    "```python\n",
    "import os\n",
    "size = os.path.getsize('file.txt')\n",
    "```\n",
    "\n",
    "**Check Read/Write/Execute Permissions**\n",
    "\n",
    "```python\n",
    "import os\n",
    "os.access('file.txt', os.R_OK)  # read permission\n",
    "os.access('file.txt', os.W_OK)  # write permission\n",
    "os.access('file.txt', os.X_OK)  # execute permission\n",
    "```\n"
   ]
  },
  {
   "cell_type": "code",
   "execution_count": null,
   "id": "b6d730fd",
   "metadata": {},
   "outputs": [],
   "source": [
    "import os\n",
    "\n",
    "os.rename(\"test.txt\", \"file.txt\")\n",
    "os.remove(\"file.txt\")"
   ]
  },
  {
   "cell_type": "code",
   "execution_count": null,
   "id": "bc0e847e",
   "metadata": {},
   "outputs": [],
   "source": [
    "import os \n",
    "os.getcwd()\n",
    "os.chdir('the path')\n",
    "os.listdir(os.getcwd())\n",
    "os.mkdir()\n",
    "os.rmdir()\n",
    "\n",
    "import shutil\n",
    "\n",
    "shutil.rmtree(\"test\")"
   ]
  },
  {
   "cell_type": "code",
   "execution_count": 185,
   "id": "5012028a",
   "metadata": {},
   "outputs": [
    {
     "name": "stderr",
     "output_type": "stream",
     "text": [
      "DEBUG:root:Debug message\n",
      "INFO:root:Info message\n",
      "WARNING:root:Warning message\n",
      "ERROR:root:Error message\n",
      "CRITICAL:root:Critical message\n"
     ]
    }
   ],
   "source": [
    "import logging\n",
    "logging.basicConfig(level=logging.DEBUG)\n",
    "logging.debug('Debug message')\n",
    "logging.info('Info message')\n",
    "logging.warning('Warning message')\n",
    "logging.error('Error message')\n",
    "logging.critical('Critical message')"
   ]
  }
 ],
 "metadata": {
  "kernelspec": {
   "display_name": "base",
   "language": "python",
   "name": "python3"
  },
  "language_info": {
   "codemirror_mode": {
    "name": "ipython",
    "version": 3
   },
   "file_extension": ".py",
   "mimetype": "text/x-python",
   "name": "python",
   "nbconvert_exporter": "python",
   "pygments_lexer": "ipython3",
   "version": "3.13.5"
  }
 },
 "nbformat": 4,
 "nbformat_minor": 5
}
