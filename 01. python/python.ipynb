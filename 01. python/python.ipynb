{
 "cells": [
  {
   "cell_type": "markdown",
   "id": "836ee60e",
   "metadata": {},
   "source": [
    "![Python Logo](https://upload.wikimedia.org/wikipedia/commons/c/c3/Python-logo-notext.svg)"
   ]
  },
  {
   "cell_type": "markdown",
   "id": "d084e1e7",
   "metadata": {},
   "source": [
    "### Variable Types\n",
    "\n",
    "| **Variable Type**         | **Description**               | **Example**                            | **Type Check**                |\n",
    "| ------------------------- | ----------------------------- | -------------------------------------- | ----------------------------- |\n",
    "| Integer (`int`)           | Whole numbers                 | `age = 25`                             | `type(age)` → `<class 'int'>` |\n",
    "| Float (`float`)           | Decimal numbers               | `price = 99.99`                        | `<class 'float'>`             |\n",
    "| Complex (`complex`)       | Complex numbers               | `z = 2 + 3j`                           | `<class 'complex'>`           |\n",
    "| String (`str`)            | Text                          | `name = \"Mashfiq\"`                     | `<class 'str'>`               |\n",
    "| Boolean (`bool`)          | True/False                    | `is_active = True`                     | `<class 'bool'>`              |\n",
    "| List (`list`)             | Ordered, mutable collection   | `numbers = [1, 2, 3]`                  | `<class 'list'>`              |\n",
    "| Tuple (`tuple`)           | Ordered, immutable collection | `coords = (10, 20)`                    | `<class 'tuple'>`             |\n",
    "| Range (`range`)           | Sequence of numbers           | `nums = range(5)`                      | `<class 'range'>`             |\n",
    "| Set (`set`)               | Unordered, no duplicates      | `unique = {1, 2, 3}`                   | `<class 'set'>`               |\n",
    "| Frozen Set (`frozenset`)  | Immutable version of set      | `fs = frozenset([1,2,3])`              | `<class 'frozenset'>`         |\n",
    "| Dictionary (`dict`)       | Key-value pairs               | `person = {\"name\":\"Mashfiq\",\"age\":25}` | `<class 'dict'>`              |\n",
    "| NoneType (`None`)         | Represents absence of value   | `result = None`                        | `<class 'NoneType'>`          |\n",
    "| Dynamic Variable          | Can change type at runtime    | `var = 10; var = \"Ten\"`                | `type(var)` changes           |\n",
    "| Constant (by convention)  | Value meant not to change     | `PI = 3.14159`                         | `<class 'float'>`             |\n",
    "| Bytes (`bytes`)           | Immutable sequence of bytes   | `b = b\"Hello\"`                         | `<class 'bytes'>`             |\n",
    "| Bytearray (`bytearray`)   | Mutable sequence of bytes     | `ba = bytearray([65,66,67])`           | `<class 'bytearray'>`         |\n",
    "| Memoryview (`memoryview`) | View of byte data             | `mv = memoryview(b\"Hello\")`            | `<class 'memoryview'>`        |\n"
   ]
  },
  {
   "cell_type": "markdown",
   "id": "f7d7f384",
   "metadata": {},
   "source": [
    "### Variables"
   ]
  },
  {
   "cell_type": "markdown",
   "id": "6bafc36a",
   "metadata": {},
   "source": [
    "#### Numeric"
   ]
  },
  {
   "cell_type": "code",
   "execution_count": 1,
   "id": "a382a73d",
   "metadata": {},
   "outputs": [
    {
     "name": "stdout",
     "output_type": "stream",
     "text": [
      "25 <class 'int'>\n"
     ]
    }
   ],
   "source": [
    "age = 25\n",
    "print(age, type(age))"
   ]
  },
  {
   "cell_type": "code",
   "execution_count": 2,
   "id": "19160c23",
   "metadata": {},
   "outputs": [
    {
     "name": "stdout",
     "output_type": "stream",
     "text": [
      "99.99 <class 'float'>\n"
     ]
    }
   ],
   "source": [
    "price = 99.99\n",
    "print(price, type(price))"
   ]
  },
  {
   "cell_type": "code",
   "execution_count": 3,
   "id": "3e0a1087",
   "metadata": {},
   "outputs": [
    {
     "name": "stdout",
     "output_type": "stream",
     "text": [
      "(2+3j) <class 'complex'>\n"
     ]
    }
   ],
   "source": [
    "com = 2 + 3j\n",
    "print(com, type(com))"
   ]
  },
  {
   "cell_type": "markdown",
   "id": "48f9fbff",
   "metadata": {},
   "source": [
    "#### String"
   ]
  },
  {
   "cell_type": "code",
   "execution_count": 4,
   "id": "811a4c39",
   "metadata": {},
   "outputs": [
    {
     "name": "stdout",
     "output_type": "stream",
     "text": [
      "mashfiq <class 'str'>\n",
      "Hello Data Science <class 'str'>\n",
      "this is a multiline text <class 'str'>\n"
     ]
    }
   ],
   "source": [
    "name = \"mashfiq\"\n",
    "gretting = \"Hello Data Science\"\n",
    "multi = \"\"\"this is a multiline text\"\"\"\n",
    "\n",
    "print(name, type(name))\n",
    "print(gretting, type(gretting))\n",
    "print(multi, type(multi))"
   ]
  },
  {
   "cell_type": "markdown",
   "id": "cebfa9ed",
   "metadata": {},
   "source": [
    "#### Boolean"
   ]
  },
  {
   "cell_type": "code",
   "execution_count": 5,
   "id": "86390619",
   "metadata": {},
   "outputs": [
    {
     "name": "stdout",
     "output_type": "stream",
     "text": [
      "True <class 'bool'>\n",
      "False <class 'bool'>\n"
     ]
    }
   ],
   "source": [
    "is_active = True\n",
    "is_admin = False\n",
    "print(is_active, type(is_active))\n",
    "print(is_admin, type(is_admin))"
   ]
  },
  {
   "cell_type": "markdown",
   "id": "5c2c2c9d",
   "metadata": {},
   "source": [
    "### Sequence"
   ]
  },
  {
   "cell_type": "markdown",
   "id": "60c9a70d",
   "metadata": {},
   "source": [
    "#### List"
   ]
  },
  {
   "cell_type": "code",
   "execution_count": 6,
   "id": "b2c16d64",
   "metadata": {},
   "outputs": [
    {
     "name": "stdout",
     "output_type": "stream",
     "text": [
      "[1, 2, 3, 4, 5] <class 'list'>\n",
      "['apple', 'banana', 'mango'] <class 'list'>\n"
     ]
    }
   ],
   "source": [
    "numbers = [1, 2, 3, 4, 5]\n",
    "print(numbers, type(numbers))\n",
    "fruits = [\"apple\", \"banana\", \"mango\"]\n",
    "print(fruits, type(fruits))"
   ]
  },
  {
   "cell_type": "markdown",
   "id": "423ce562",
   "metadata": {},
   "source": [
    "#### Tuple"
   ]
  },
  {
   "cell_type": "code",
   "execution_count": 7,
   "id": "05bba0c5",
   "metadata": {},
   "outputs": [
    {
     "name": "stdout",
     "output_type": "stream",
     "text": [
      "(10.0, 20.0) <class 'tuple'>\n",
      "('red', 'green', 'blue') <class 'tuple'>\n"
     ]
    }
   ],
   "source": [
    "coordinates = (10.0, 20.0)\n",
    "print(coordinates, type(coordinates))\n",
    "colors = (\"red\", \"green\", \"blue\")\n",
    "print(colors, type(colors))"
   ]
  },
  {
   "cell_type": "markdown",
   "id": "23be9be6",
   "metadata": {},
   "source": [
    "#### Range"
   ]
  },
  {
   "cell_type": "code",
   "execution_count": 8,
   "id": "5a6c3d89",
   "metadata": {},
   "outputs": [
    {
     "name": "stdout",
     "output_type": "stream",
     "text": [
      "range(0, 5) <class 'range'>\n",
      "[0, 1, 2, 3, 4] <class 'range'>\n"
     ]
    }
   ],
   "source": [
    "nums = range(0, 5)\n",
    "print(nums, type(nums))\n",
    "print(list(nums), type(nums))"
   ]
  },
  {
   "cell_type": "markdown",
   "id": "34663d79",
   "metadata": {},
   "source": [
    "#### Sets"
   ]
  },
  {
   "cell_type": "code",
   "execution_count": 9,
   "id": "26cc5457",
   "metadata": {},
   "outputs": [
    {
     "name": "stdout",
     "output_type": "stream",
     "text": [
      "{1, 2, 3, 4, 5} <class 'set'>\n"
     ]
    }
   ],
   "source": [
    "unique_nums = {1, 2, 3, 4, 5}\n",
    "print(unique_nums, type(unique_nums))"
   ]
  },
  {
   "cell_type": "markdown",
   "id": "73b2e207",
   "metadata": {},
   "source": [
    "#### Dictionary"
   ]
  },
  {
   "cell_type": "code",
   "execution_count": 10,
   "id": "4a291f87",
   "metadata": {},
   "outputs": [
    {
     "name": "stdout",
     "output_type": "stream",
     "text": [
      "{'name': 'Mash', 'age': 31, 'city': 'khulna'} <class 'dict'>\n",
      "Mash\n"
     ]
    }
   ],
   "source": [
    "person = {\"name\": \"Mash\", \"age\": 31, \"city\": \"khulna\"}\n",
    "print(person, type(person))\n",
    "print(person[\"name\"])"
   ]
  },
  {
   "cell_type": "markdown",
   "id": "d93a2834",
   "metadata": {},
   "source": [
    "#### NoneType"
   ]
  },
  {
   "cell_type": "code",
   "execution_count": 11,
   "id": "237c6f78",
   "metadata": {},
   "outputs": [
    {
     "name": "stdout",
     "output_type": "stream",
     "text": [
      "None <class 'NoneType'>\n"
     ]
    }
   ],
   "source": [
    "result = None\n",
    "print(result, type(result))"
   ]
  },
  {
   "cell_type": "markdown",
   "id": "e94503f8",
   "metadata": {},
   "source": [
    "#### Dynamic Variables"
   ]
  },
  {
   "cell_type": "code",
   "execution_count": 12,
   "id": "db960ebf",
   "metadata": {},
   "outputs": [
    {
     "name": "stdout",
     "output_type": "stream",
     "text": [
      "[10] <class 'list'>\n"
     ]
    }
   ],
   "source": [
    "var = 10\n",
    "var = \"Ten\"\n",
    "var = [10]\n",
    "\n",
    "print(var, type(var))"
   ]
  },
  {
   "cell_type": "markdown",
   "id": "8d1ebd1d",
   "metadata": {},
   "source": [
    "#### Constants"
   ]
  },
  {
   "cell_type": "code",
   "execution_count": 13,
   "id": "4d71420c",
   "metadata": {},
   "outputs": [
    {
     "name": "stdout",
     "output_type": "stream",
     "text": [
      "3.14159 <class 'float'>\n",
      "9.8 <class 'float'>\n"
     ]
    }
   ],
   "source": [
    "PI = 3.14159\n",
    "GRAVITY = 9.8\n",
    "\n",
    "print(PI, type(PI))\n",
    "print(GRAVITY, type(GRAVITY))"
   ]
  },
  {
   "cell_type": "markdown",
   "id": "f69fc6b6",
   "metadata": {},
   "source": [
    "#### Type Conversion"
   ]
  },
  {
   "cell_type": "code",
   "execution_count": 14,
   "id": "4182a02a",
   "metadata": {},
   "outputs": [
    {
     "data": {
      "text/plain": [
       "'20'"
      ]
     },
     "execution_count": 14,
     "metadata": {},
     "output_type": "execute_result"
    }
   ],
   "source": [
    "str(20)"
   ]
  },
  {
   "cell_type": "code",
   "execution_count": 15,
   "id": "fe53901f",
   "metadata": {},
   "outputs": [
    {
     "data": {
      "text/plain": [
       "20"
      ]
     },
     "execution_count": 15,
     "metadata": {},
     "output_type": "execute_result"
    }
   ],
   "source": [
    "int(20.6)"
   ]
  },
  {
   "cell_type": "code",
   "execution_count": 16,
   "id": "eef4161d",
   "metadata": {},
   "outputs": [
    {
     "data": {
      "text/plain": [
       "5.0"
      ]
     },
     "execution_count": 16,
     "metadata": {},
     "output_type": "execute_result"
    }
   ],
   "source": [
    "float(5)"
   ]
  },
  {
   "cell_type": "markdown",
   "id": "ba3625d3",
   "metadata": {},
   "source": [
    "#### Output Formatting"
   ]
  },
  {
   "cell_type": "code",
   "execution_count": 17,
   "id": "55bb6473",
   "metadata": {},
   "outputs": [
    {
     "name": "stdout",
     "output_type": "stream",
     "text": [
      "The value of a is 10 and b is 20\n",
      "The value of b is 20 and a is 10\n",
      "Hello Mash, Good Morning!\n"
     ]
    }
   ],
   "source": [
    "a = 10\n",
    "b = 20\n",
    "\n",
    "print(\"The value of a is {} and b is {}\".format(a, b))\n",
    "print(\"The value of b is {1} and a is {0}\".format(a, b))\n",
    "print(\"Hello {name}, {greeting}\".format(name=\"Mash\", greeting=\"Good Morning!\"))"
   ]
  },
  {
   "cell_type": "markdown",
   "id": "d766b734",
   "metadata": {},
   "source": [
    "#### Python Input"
   ]
  },
  {
   "cell_type": "code",
   "execution_count": 18,
   "id": "d6f81b2e",
   "metadata": {},
   "outputs": [
    {
     "name": "stdout",
     "output_type": "stream",
     "text": [
      "2\n"
     ]
    }
   ],
   "source": [
    "num = input(\"Enter a number: \")\n",
    "print(num)"
   ]
  },
  {
   "cell_type": "code",
   "execution_count": 19,
   "id": "6c66fbbf",
   "metadata": {},
   "outputs": [
    {
     "name": "stdout",
     "output_type": "stream",
     "text": [
      "True\n",
      "False\n"
     ]
    }
   ],
   "source": [
    "x = 5\n",
    "y = 5\n",
    "\n",
    "print(x is y)\n",
    "\n",
    "print(x is not y)"
   ]
  },
  {
   "cell_type": "code",
   "execution_count": 20,
   "id": "d31facec",
   "metadata": {},
   "outputs": [
    {
     "name": "stdout",
     "output_type": "stream",
     "text": [
      "True\n",
      "False\n"
     ]
    }
   ],
   "source": [
    "lst = [1, 2, 3, 4, 5]\n",
    "print(1 in lst)\n",
    "print(1 not in lst)"
   ]
  },
  {
   "cell_type": "markdown",
   "id": "2d2c94b5",
   "metadata": {},
   "source": [
    "### if...else"
   ]
  },
  {
   "cell_type": "code",
   "execution_count": 21,
   "id": "be108bb3",
   "metadata": {},
   "outputs": [
    {
     "name": "stdout",
     "output_type": "stream",
     "text": [
      "Number is positive\n",
      "this will always print\n"
     ]
    }
   ],
   "source": [
    "num = 10\n",
    "if num == 10:\n",
    "    print(\"Number is positive\")\n",
    "print(\"this will always print\")"
   ]
  },
  {
   "cell_type": "code",
   "execution_count": 22,
   "id": "54de7fb4",
   "metadata": {},
   "outputs": [
    {
     "name": "stdout",
     "output_type": "stream",
     "text": [
      "Positive Number\n"
     ]
    }
   ],
   "source": [
    "num = 10\n",
    "\n",
    "if num > 0:\n",
    "    print(\"Positive Number\")\n",
    "else:\n",
    "    print(\"Negative Number\")"
   ]
  },
  {
   "cell_type": "code",
   "execution_count": 23,
   "id": "be37aacf",
   "metadata": {},
   "outputs": [
    {
     "name": "stdout",
     "output_type": "stream",
     "text": [
      "ZERO\n"
     ]
    }
   ],
   "source": [
    "num = 0\n",
    "\n",
    "if num > 0:\n",
    "    print(\"Positive Number\")\n",
    "elif num == 0:\n",
    "    print(\"ZERO\")\n",
    "else:\n",
    "    print(\"Negative Number\")"
   ]
  },
  {
   "cell_type": "code",
   "execution_count": 24,
   "id": "ec609644",
   "metadata": {},
   "outputs": [
    {
     "name": "stdout",
     "output_type": "stream",
     "text": [
      "Positive Number\n"
     ]
    }
   ],
   "source": [
    "num = 10.5\n",
    "\n",
    "if num >= 0:\n",
    "    if num == 0:\n",
    "        print(\"ZERO\")\n",
    "    else:\n",
    "        print(\"Positive Number\")\n",
    "else:\n",
    "    print(\"Negative Number\")"
   ]
  },
  {
   "cell_type": "code",
   "execution_count": 25,
   "id": "d0b72b41",
   "metadata": {},
   "outputs": [
    {
     "name": "stdout",
     "output_type": "stream",
     "text": [
      "50\n"
     ]
    }
   ],
   "source": [
    "num1 = 10\n",
    "num2 = 50\n",
    "num3 = 15\n",
    "\n",
    "if (num1 >= num2) and (num1 >= num3):\n",
    "    largest = num1\n",
    "elif (num2 >= num1) and (num2 >= num3):\n",
    "    largest = num2\n",
    "else:\n",
    "    largest = num3\n",
    "\n",
    "print(largest)"
   ]
  },
  {
   "cell_type": "markdown",
   "id": "8ad60c4a",
   "metadata": {},
   "source": [
    "#### while loop"
   ]
  },
  {
   "cell_type": "code",
   "execution_count": 26,
   "id": "5fa93695",
   "metadata": {},
   "outputs": [
    {
     "name": "stdout",
     "output_type": "stream",
     "text": [
      "Product is : 12000000\n"
     ]
    }
   ],
   "source": [
    "lst = [10, 20, 30, 40, 50]\n",
    "\n",
    "product = 1\n",
    "index = 0\n",
    "\n",
    "while index < len(lst):\n",
    "    product *= lst[index]\n",
    "    index += 1\n",
    "\n",
    "print(\"Product is : {}\".format(product))"
   ]
  },
  {
   "cell_type": "markdown",
   "id": "81032d97",
   "metadata": {},
   "source": [
    "#### while loop with else"
   ]
  },
  {
   "cell_type": "code",
   "execution_count": 27,
   "id": "7ba9ee9d",
   "metadata": {},
   "outputs": [
    {
     "name": "stdout",
     "output_type": "stream",
     "text": [
      "1\n",
      "2\n",
      "3\n",
      "4\n",
      "5\n",
      "No item left in the list\n"
     ]
    }
   ],
   "source": [
    "numbers = [1, 2, 3, 4, 5]\n",
    "index = 0 \n",
    "\n",
    "while index < len(numbers) :\n",
    "    print(numbers[index])\n",
    "    index += 1\n",
    "else:\n",
    "    print(\"No item left in the list\")"
   ]
  },
  {
   "cell_type": "markdown",
   "id": "efc8f516",
   "metadata": {},
   "source": [
    "#### Is Prime"
   ]
  },
  {
   "cell_type": "code",
   "execution_count": 28,
   "id": "d6aef496",
   "metadata": {},
   "outputs": [
    {
     "name": "stdout",
     "output_type": "stream",
     "text": [
      "2 is a Prime number.\n"
     ]
    }
   ],
   "source": [
    "num = int(input(\"Enter a number: \"))\n",
    "\n",
    "isDivisible = False\n",
    "i = 2\n",
    "\n",
    "while i < num:\n",
    "    if num % i == 0:\n",
    "        isDivisible = True\n",
    "        print(\"{} is divisible by {}\".format(num, i))\n",
    "    i += 1\n",
    "\n",
    "if isDivisible:\n",
    "    print(\"{} is Not a Prime number.\".format(num))\n",
    "else:\n",
    "    print(\"{} is a Prime number.\".format(num))\n",
    "    "
   ]
  },
  {
   "cell_type": "markdown",
   "id": "681b2097",
   "metadata": {},
   "source": [
    "#### for loop"
   ]
  },
  {
   "cell_type": "code",
   "execution_count": 29,
   "id": "7c6ebe9c",
   "metadata": {},
   "outputs": [
    {
     "name": "stdout",
     "output_type": "stream",
     "text": [
      "12000000\n"
     ]
    }
   ],
   "source": [
    "lst = [10, 20, 30, 40, 50]\n",
    "product = 1\n",
    "\n",
    "for ele in lst:\n",
    "    product *= ele\n",
    "\n",
    "print(product)"
   ]
  },
  {
   "cell_type": "markdown",
   "id": "b5d278d6",
   "metadata": {},
   "source": [
    "#### range()"
   ]
  },
  {
   "cell_type": "code",
   "execution_count": 30,
   "id": "acd253d9",
   "metadata": {},
   "outputs": [
    {
     "name": "stdout",
     "output_type": "stream",
     "text": [
      "0\n",
      "1\n",
      "2\n",
      "3\n",
      "4\n",
      "5\n",
      "6\n",
      "7\n",
      "8\n",
      "9\n"
     ]
    }
   ],
   "source": [
    "for i in range(10):\n",
    "    print(i)"
   ]
  },
  {
   "cell_type": "code",
   "execution_count": 31,
   "id": "9e98dc67",
   "metadata": {},
   "outputs": [
    {
     "name": "stdout",
     "output_type": "stream",
     "text": [
      "1\n",
      "3\n",
      "5\n",
      "7\n",
      "9\n",
      "11\n",
      "13\n",
      "15\n",
      "17\n",
      "19\n"
     ]
    }
   ],
   "source": [
    "for i in range(1, 20, 2):\n",
    "    print(i)"
   ]
  },
  {
   "cell_type": "code",
   "execution_count": 32,
   "id": "ed74109e",
   "metadata": {},
   "outputs": [
    {
     "name": "stdout",
     "output_type": "stream",
     "text": [
      "0\n",
      "5\n",
      "10\n",
      "15\n"
     ]
    }
   ],
   "source": [
    "for i in range(0, 20, 5):\n",
    "    print(i)"
   ]
  },
  {
   "cell_type": "code",
   "execution_count": 33,
   "id": "f6767793",
   "metadata": {},
   "outputs": [
    {
     "name": "stdout",
     "output_type": "stream",
     "text": [
      "Mash\n",
      "Safa\n",
      "Nosh\n",
      "Shad\n",
      "Rak\n",
      "Sham\n"
     ]
    }
   ],
   "source": [
    "lst = [\"Mash\", \"Safa\", \"Nosh\", \"Shad\", \"Rak\", \"Sham\"]\n",
    "\n",
    "for index in range(len(lst)):\n",
    "    print(lst[index])"
   ]
  },
  {
   "cell_type": "markdown",
   "id": "094a019b",
   "metadata": {},
   "source": [
    "#### for loop with else"
   ]
  },
  {
   "cell_type": "code",
   "execution_count": 34,
   "id": "44ce6e7e",
   "metadata": {},
   "outputs": [
    {
     "name": "stdout",
     "output_type": "stream",
     "text": [
      "1\n",
      "2\n",
      "3\n",
      "No more items\n"
     ]
    }
   ],
   "source": [
    "numbers = [1, 2, 3]\n",
    "\n",
    "for item in numbers:\n",
    "    print(item)\n",
    "else:\n",
    "    print(\"No more items\")"
   ]
  },
  {
   "cell_type": "markdown",
   "id": "9bad228f",
   "metadata": {},
   "source": [
    "#### All The Prime Number between an interval"
   ]
  },
  {
   "cell_type": "code",
   "execution_count": 35,
   "id": "15fea315",
   "metadata": {},
   "outputs": [
    {
     "name": "stdout",
     "output_type": "stream",
     "text": [
      "Prime numbers between 2 and 2 are: \n",
      "2\n"
     ]
    }
   ],
   "source": [
    "index1 = int(input(\"Enter Strating point of numbers: \"))\n",
    "index2 = int(input(\"Enter End point of numbers: \"))\n",
    "\n",
    "print(\"Prime numbers between {} and {} are: \".format(index1, index2))\n",
    "\n",
    "for num in range(index1, index2 + 1):\n",
    "    if num > 1:\n",
    "        isDivisible = False\n",
    "        for index in range(2, num):\n",
    "            if num % index == 0:\n",
    "                isDivisible = True\n",
    "        if not isDivisible:\n",
    "            print(num)"
   ]
  },
  {
   "cell_type": "markdown",
   "id": "f7995d61",
   "metadata": {},
   "source": [
    "### List\n",
    "| **Operation**          | **Description**               | **Example**                             | **Output**                                  |\n",
    "| ---------------------- | ----------------------------- | --------------------------------------- | ------------------------------------------- |\n",
    "| Create a list          | Define with `[]`              | `fruits = [\"apple\", \"banana\", \"mango\"]` | `['apple', 'banana', 'mango']`              |\n",
    "| Access element         | Use index (0-based)           | `fruits[0]`                             | `'apple'`                                   |\n",
    "| Negative index         | Access from end               | `fruits[-1]`                            | `'mango'`                                   |\n",
    "| Slice list             | Get sublist                   | `fruits[0:2]`                           | `['apple', 'banana']`                       |\n",
    "| Append item            | Add at end                    | `fruits.append(\"orange\")`               | `['apple','banana','mango','orange']`       |\n",
    "| Insert item            | Add at specific index         | `fruits.insert(1, \"grape\")`             | `['apple','grape','banana','mango']`        |\n",
    "| Extend list            | Add multiple items            | `fruits.extend([\"kiwi\",\"melon\"])`       | `['apple','banana','mango','kiwi','melon']` |\n",
    "| Remove item (by value) | Remove first matching element | `fruits.remove(\"banana\")`               | `['apple','mango']`                         |\n",
    "| Pop item (by index)    | Remove and return element     | `fruits.pop(1)`                         | returns `'banana'`                          |\n",
    "| Delete item            | Remove by index with `del`    | `del fruits[0]`                         | Removes first element                       |\n",
    "| Clear list             | Remove all items              | `fruits.clear()`                        | `[]`                                        |\n",
    "| Length of list         | Count items                   | `len(fruits)`                           | `3`                                         |\n",
    "| Check existence        | Use `in` keyword              | `\"apple\" in fruits`                     | `True`                                      |\n",
    "| Sort list              | Sort ascending                | `fruits.sort()`                         | Sorted list                                 |\n",
    "| Sort descending        | Sort reverse                  | `fruits.sort(reverse=True)`             | Reverse sorted                              |\n",
    "| Reverse list           | Reverse order                 | `fruits.reverse()`                      | Reversed list                               |\n",
    "| Copy list              | Create shallow copy           | `copy_fruits = fruits.copy()`           | Same list copy                              |\n",
    "| Join lists             | Concatenate lists             | `list1 + list2`                         | Combined list                               |\n",
    "| Repeat list            | Duplicate items               | `fruits * 2`                            | Repeated list                               |\n",
    "| List comprehension     | Create list with expression   | `[x*2 for x in [1,2,3]]`                | `[2, 4, 6]`                                 |\n"
   ]
  },
  {
   "cell_type": "markdown",
   "id": "0e305a24",
   "metadata": {},
   "source": [
    "### Lists"
   ]
  },
  {
   "cell_type": "code",
   "execution_count": 36,
   "id": "d22c5b50",
   "metadata": {},
   "outputs": [],
   "source": [
    "lst0 = []\n",
    "\n",
    "lst1 = [\"one\", \"Two\", \"Three\"]\n",
    "\n",
    "lst2 = [1, 2, 3, 4]\n",
    "\n",
    "lst3 = [[1, 2], [3, 4]]\n",
    "\n",
    "lst4 = [1, 'str', 2, 3]"
   ]
  },
  {
   "cell_type": "code",
   "execution_count": 37,
   "id": "461ce010",
   "metadata": {},
   "outputs": [
    {
     "name": "stdout",
     "output_type": "stream",
     "text": [
      "4\n"
     ]
    }
   ],
   "source": [
    "print(len(lst4))"
   ]
  },
  {
   "cell_type": "code",
   "execution_count": 38,
   "id": "ac16d171",
   "metadata": {},
   "outputs": [
    {
     "name": "stdout",
     "output_type": "stream",
     "text": [
      "['one', 'Two', 'Three', 'Four']\n"
     ]
    }
   ],
   "source": [
    "lst = [\"one\", \"Two\", \"Three\"]\n",
    "lst.append('Four')\n",
    "print(lst)"
   ]
  },
  {
   "cell_type": "code",
   "execution_count": 39,
   "id": "12fb14b6",
   "metadata": {},
   "outputs": [
    {
     "name": "stdout",
     "output_type": "stream",
     "text": [
      "['one', 'Two', 'Three', 'Four']\n"
     ]
    }
   ],
   "source": [
    "lst = [\"one\", \"Two\", \"Three\"]\n",
    "lst.insert(3, \"Four\")\n",
    "print(lst)"
   ]
  },
  {
   "cell_type": "code",
   "execution_count": 40,
   "id": "ea69265d",
   "metadata": {},
   "outputs": [
    {
     "name": "stdout",
     "output_type": "stream",
     "text": [
      "['one', 'Two', 'Three']\n"
     ]
    }
   ],
   "source": [
    "lst = [\"one\", \"Two\", \"Two\", \"Three\"]\n",
    "lst.remove(\"Two\")\n",
    "print(lst)"
   ]
  },
  {
   "cell_type": "code",
   "execution_count": 41,
   "id": "7bf893da",
   "metadata": {},
   "outputs": [
    {
     "name": "stdout",
     "output_type": "stream",
     "text": [
      "['one', 'Two', 'Two', 'Three', ['Four', 'Five']]\n"
     ]
    }
   ],
   "source": [
    "lst1 = [\"one\", \"Two\", \"Two\", \"Three\"]\n",
    "lst2 = [\"Four\", \"Five\"]\n",
    "\n",
    "lst1.append(lst2)\n",
    "print(lst1)"
   ]
  },
  {
   "cell_type": "code",
   "execution_count": 42,
   "id": "03fe1d96",
   "metadata": {},
   "outputs": [
    {
     "name": "stdout",
     "output_type": "stream",
     "text": [
      "['one', 'Two', 'Two', 'Three', 'Four', 'Five']\n"
     ]
    }
   ],
   "source": [
    "lst1 = [\"one\", \"Two\", \"Two\", \"Three\"]\n",
    "lst2 = [\"Four\", \"Five\"]\n",
    "\n",
    "lst1.extend(lst2)\n",
    "print(lst1)"
   ]
  },
  {
   "cell_type": "code",
   "execution_count": 43,
   "id": "21d1be43",
   "metadata": {},
   "outputs": [
    {
     "name": "stdout",
     "output_type": "stream",
     "text": [
      "['one', 'Three', 'Four', 'Five']\n"
     ]
    }
   ],
   "source": [
    "lst = [\"one\", \"Two\", \"Three\", \"Four\", \"Five\"]\n",
    "del lst[1]\n",
    "print(lst)"
   ]
  },
  {
   "cell_type": "code",
   "execution_count": 44,
   "id": "d5c9ec6d",
   "metadata": {},
   "outputs": [
    {
     "name": "stdout",
     "output_type": "stream",
     "text": [
      "Two\n",
      "['one', 'Three', 'Four', 'Five']\n"
     ]
    }
   ],
   "source": [
    "lst = [\"one\", \"Two\", \"Three\", \"Four\", \"Five\"]\n",
    "a = lst.pop(1)\n",
    "print(a)\n",
    "print(lst)"
   ]
  },
  {
   "cell_type": "code",
   "execution_count": 45,
   "id": "4648dd52",
   "metadata": {},
   "outputs": [
    {
     "name": "stdout",
     "output_type": "stream",
     "text": [
      "AI\n",
      "ML\n"
     ]
    }
   ],
   "source": [
    "lst = [\"one\", \"Two\", \"Three\", \"Four\", \"Five\"]\n",
    "\n",
    "if \"Two\" in lst:\n",
    "    print(\"AI\")\n",
    "\n",
    "if \"Six\" not in lst:\n",
    "    print(\"ML\")"
   ]
  },
  {
   "cell_type": "code",
   "execution_count": 46,
   "id": "3714dccb",
   "metadata": {},
   "outputs": [
    {
     "name": "stdout",
     "output_type": "stream",
     "text": [
      "[3, 1, 6, 2, 8]\n",
      "[1, 2, 3, 6, 8]\n",
      "[8, 6, 3, 2, 1]\n",
      "[1, 2, 3, 6, 8]\n"
     ]
    }
   ],
   "source": [
    "numbers = [3, 1, 6, 2, 8]\n",
    "sorted_lst = sorted(numbers)\n",
    "reverse_sort_lst = sorted(numbers, reverse=True)\n",
    "\n",
    "print(numbers)\n",
    "numbers.sort()\n",
    "\n",
    "print(sorted_lst)\n",
    "print(reverse_sort_lst)\n",
    "print(numbers)"
   ]
  },
  {
   "cell_type": "code",
   "execution_count": 47,
   "id": "5403f552",
   "metadata": {},
   "outputs": [
    {
     "name": "stdout",
     "output_type": "stream",
     "text": [
      "[1, 2, 3, 4, 5, 6]\n",
      "[1, 2, 3, 4, 5, 6]\n"
     ]
    }
   ],
   "source": [
    "lst = [1, 2, 3, 4, 5]\n",
    "abc = lst\n",
    "abc.append(6)\n",
    "\n",
    "print(abc)\n",
    "print(lst)"
   ]
  },
  {
   "cell_type": "code",
   "execution_count": 48,
   "id": "dcca22bf",
   "metadata": {},
   "outputs": [
    {
     "name": "stdout",
     "output_type": "stream",
     "text": [
      "one,Two,Three,Four,Five\n",
      "['one', 'Two', 'Three', 'Four', 'Five']\n"
     ]
    }
   ],
   "source": [
    "s = \"one,Two,Three,Four,Five\"\n",
    "slst = s.split(',')\n",
    "print(s)\n",
    "print(slst)"
   ]
  },
  {
   "cell_type": "code",
   "execution_count": 49,
   "id": "968224fc",
   "metadata": {},
   "outputs": [
    {
     "name": "stdout",
     "output_type": "stream",
     "text": [
      "['This', 'is', 'applied', 'AI', 'Course']\n"
     ]
    }
   ],
   "source": [
    "s = \"This is applied AI Course\"\n",
    "split_lst = s.split()\n",
    "print(split_lst)"
   ]
  },
  {
   "cell_type": "code",
   "execution_count": 50,
   "id": "d0f2a87d",
   "metadata": {},
   "outputs": [
    {
     "name": "stdout",
     "output_type": "stream",
     "text": [
      "[10, 20, 30, 40, 50, 60, 70, 80, 90]\n",
      "[10, 20, 30, 40]\n",
      "[10, 30, 50, 70, 90]\n",
      "[30, 50, 70, 90]\n"
     ]
    }
   ],
   "source": [
    "numbers = [10, 20, 30, 40, 50, 60, 70, 80, 90]\n",
    "print(numbers[:])\n",
    "print(numbers[0:4])\n",
    "print(numbers[::2])\n",
    "print(numbers[2::2])\n"
   ]
  },
  {
   "cell_type": "code",
   "execution_count": 51,
   "id": "97f29b25",
   "metadata": {},
   "outputs": [
    {
     "name": "stdout",
     "output_type": "stream",
     "text": [
      "[1, 2, 3, 4, 'Mash', 'Safa']\n"
     ]
    }
   ],
   "source": [
    "lst1 = [1, 2, 3, 4]\n",
    "lst2 = [\"Mash\", \"Safa\"]\n",
    "new_lst = lst1 + lst2\n",
    "\n",
    "print(new_lst)"
   ]
  },
  {
   "cell_type": "code",
   "execution_count": 52,
   "id": "f9fe7a46",
   "metadata": {},
   "outputs": [
    {
     "name": "stdout",
     "output_type": "stream",
     "text": [
      "2\n",
      "2\n"
     ]
    }
   ],
   "source": [
    "numbers = [1, 2, 3, 1, 3, 4, 2, 5]\n",
    "print(numbers.count(1))\n",
    "print(numbers.count(3))"
   ]
  },
  {
   "cell_type": "code",
   "execution_count": 53,
   "id": "a23033f4",
   "metadata": {},
   "outputs": [
    {
     "name": "stdout",
     "output_type": "stream",
     "text": [
      "1\n",
      "2\n",
      "3\n",
      "4\n",
      "Mash\n",
      "Safa\n"
     ]
    }
   ],
   "source": [
    "for ele in new_lst:\n",
    "    print(ele)"
   ]
  },
  {
   "cell_type": "markdown",
   "id": "07596552",
   "metadata": {},
   "source": [
    "#### List Comprehension"
   ]
  },
  {
   "cell_type": "code",
   "execution_count": 54,
   "id": "165ebc3d",
   "metadata": {},
   "outputs": [
    {
     "name": "stdout",
     "output_type": "stream",
     "text": [
      "[0, 1, 4, 9, 16, 25, 36, 49, 64, 81]\n"
     ]
    }
   ],
   "source": [
    "sqrs = []\n",
    "\n",
    "for i in range(10):\n",
    "    sqrs.append(i**2)\n",
    "\n",
    "print(sqrs)"
   ]
  },
  {
   "cell_type": "code",
   "execution_count": 55,
   "id": "2bc206d4",
   "metadata": {},
   "outputs": [
    {
     "name": "stdout",
     "output_type": "stream",
     "text": [
      "[0, 1, 4, 9, 16, 25, 36, 49, 64, 81]\n"
     ]
    }
   ],
   "source": [
    "sqrs = [i**2 for i in range(10)]\n",
    "print(sqrs)"
   ]
  },
  {
   "cell_type": "code",
   "execution_count": 56,
   "id": "69e63c93",
   "metadata": {},
   "outputs": [
    {
     "name": "stdout",
     "output_type": "stream",
     "text": [
      "[-20, -40, 20, 40, 100]\n",
      "[20, 40, 100]\n",
      "[(0, 0), (1, 1), (2, 4), (3, 9), (4, 16), (5, 25), (6, 36), (7, 49), (8, 64), (9, 81)]\n"
     ]
    }
   ],
   "source": [
    "lst = [-10, -20, 10, 20, 50]\n",
    "new_lst = [i * 2 for i in lst]\n",
    "print(new_lst)\n",
    "\n",
    "new_lst = [i * 2 for i in lst if i >= 0]\n",
    "print(new_lst)\n",
    "\n",
    "new_lst = [(i, i**2) for i in range(10)]\n",
    "print(new_lst)"
   ]
  },
  {
   "cell_type": "code",
   "execution_count": 57,
   "id": "13541431",
   "metadata": {},
   "outputs": [
    {
     "name": "stdout",
     "output_type": "stream",
     "text": [
      "[[1, 5, 9], [2, 6, 10], [3, 7, 11], [4, 8, 12]]\n"
     ]
    }
   ],
   "source": [
    "matrix = [\n",
    "    [1, 2, 3, 4],\n",
    "    [5, 6, 7, 8],\n",
    "    [9, 10, 11, 12]\n",
    "]\n",
    "\n",
    "transposed = []\n",
    "\n",
    "for i in range(4):\n",
    "    lst = []\n",
    "    for row in matrix:\n",
    "        lst.append(row[i])\n",
    "    transposed.append(lst)\n",
    "\n",
    "print(transposed)\n",
    "\n"
   ]
  },
  {
   "cell_type": "code",
   "execution_count": 58,
   "id": "da246451",
   "metadata": {},
   "outputs": [
    {
     "name": "stdout",
     "output_type": "stream",
     "text": [
      "[[1, 5, 9], [2, 6, 10], [3, 7, 11], [4, 8, 12]]\n"
     ]
    }
   ],
   "source": [
    "transposed = [[row[i] for row in matrix] for i in range(4)]\n",
    "print(transposed)"
   ]
  },
  {
   "cell_type": "markdown",
   "id": "923d0d61",
   "metadata": {},
   "source": [
    "### Tuple\n",
    "\n",
    "| **Operation**         | **Description**              | **Example**              | **Output**         |\n",
    "| --------------------- | ---------------------------- | ------------------------ | ------------------ |\n",
    "| Create a tuple        | Define with `()`             | `coords = (10, 20, 30)`  | `(10, 20, 30)`     |\n",
    "| Single element tuple  | Add comma after single value | `single = (5,)`          | `(5,)`             |\n",
    "| Access element        | Use index (0-based)          | `coords[0]`              | `10`               |\n",
    "| Negative index        | Access from end              | `coords[-1]`             | `30`               |\n",
    "| Slice tuple           | Get subtuple                 | `coords[0:2]`            | `(10, 20)`         |\n",
    "| Concatenate tuples    | Combine two tuples           | `(1,2) + (3,4)`          | `(1, 2, 3, 4)`     |\n",
    "| Repeat tuple          | Duplicate items              | `(1,2) * 2`              | `(1, 2, 1, 2)`     |\n",
    "| Check existence       | Use `in` keyword             | `10 in coords`           | `True`             |\n",
    "| Length of tuple       | Count items                  | `len(coords)`            | `3`                |\n",
    "| Tuple unpacking       | Assign elements to variables | `x, y, z = coords`       | `x=10, y=20, z=30` |\n",
    "| Count value           | Count occurrences of value   | `coords.count(10)`       | `1`                |\n",
    "| Index of value        | Find first index of value    | `coords.index(20)`       | `1`                |\n",
    "| Immutable             | Cannot modify after creation | `coords[0] = 5  # Error` | TypeError          |\n",
    "| Convert list to tuple | Use `tuple()`                | `tuple([1,2,3])`         | `(1,2,3)`          |\n",
    "| Nested tuple          | Tuples inside tuples         | `nested = (1,(2,3),4)`   | `(1,(2,3),4)`      |\n"
   ]
  },
  {
   "cell_type": "markdown",
   "id": "810cb27a",
   "metadata": {},
   "source": [
    "#### Tuple"
   ]
  },
  {
   "cell_type": "code",
   "execution_count": 59,
   "id": "9fee4de2",
   "metadata": {},
   "outputs": [],
   "source": [
    "t = ()\n",
    "t = (1, 2, 3)\n",
    "t = (1, 2, 3, 'Mash')\n",
    "t = ((1, 2, 3), ('Mash', 'Safa'))"
   ]
  },
  {
   "cell_type": "code",
   "execution_count": 61,
   "id": "93bae180",
   "metadata": {},
   "outputs": [
    {
     "name": "stdout",
     "output_type": "stream",
     "text": [
      "<class 'str'>\n",
      "<class 'tuple'>\n"
     ]
    }
   ],
   "source": [
    "t = ('Mash')\n",
    "print(type(t))\n",
    "\n",
    "t = ('Mash',)\n",
    "print(type(t))"
   ]
  },
  {
   "cell_type": "code",
   "execution_count": 62,
   "id": "fab11fc7",
   "metadata": {},
   "outputs": [
    {
     "name": "stdout",
     "output_type": "stream",
     "text": [
      "Mash\n"
     ]
    }
   ],
   "source": [
    "t = ('ABC', ('Mash', 'Safa'))\n",
    "print(t[1][0])"
   ]
  },
  {
   "cell_type": "code",
   "execution_count": 74,
   "id": "c1f423bf",
   "metadata": {},
   "outputs": [
    {
     "name": "stdout",
     "output_type": "stream",
     "text": [
      "(1, 2, 3, 4, 5, 6, [1, 2, 3, 4])\n",
      "(2, 3, 4)\n"
     ]
    }
   ],
   "source": [
    "t = (1,2,3,4,5,6, [1,2,3,4])\n",
    "print(t)\n",
    "print(t[1:4])"
   ]
  },
  {
   "cell_type": "code",
   "execution_count": null,
   "id": "b7f434d5",
   "metadata": {},
   "outputs": [
    {
     "name": "stdout",
     "output_type": "stream",
     "text": [
      "1\n"
     ]
    }
   ],
   "source": [
    "print(t[6][0])\n",
    "\n",
    "del t"
   ]
  },
  {
   "cell_type": "code",
   "execution_count": 79,
   "id": "efc66f1f",
   "metadata": {},
   "outputs": [
    {
     "name": "stdout",
     "output_type": "stream",
     "text": [
      "3\n",
      "0\n",
      "True\n"
     ]
    }
   ],
   "source": [
    "t = (1, 2, 3, 1, 3, 3, 4, 1)\n",
    "print(t.count(1))\n",
    "print(t.index(1))\n",
    "print(1 in t)"
   ]
  },
  {
   "cell_type": "code",
   "execution_count": 80,
   "id": "e29a80b1",
   "metadata": {},
   "outputs": [
    {
     "name": "stdout",
     "output_type": "stream",
     "text": [
      "6\n"
     ]
    }
   ],
   "source": [
    "t = (1, 2, 3, 4, 5, 6)\n",
    "print(len(t))"
   ]
  },
  {
   "cell_type": "code",
   "execution_count": 81,
   "id": "98145d42",
   "metadata": {},
   "outputs": [
    {
     "name": "stdout",
     "output_type": "stream",
     "text": [
      "[1, 2, 3, 4, 5]\n"
     ]
    }
   ],
   "source": [
    "t = (4, 5, 3, 2, 1)\n",
    "nt = sorted(t)\n",
    "print(nt)"
   ]
  },
  {
   "cell_type": "code",
   "execution_count": 82,
   "id": "e33060a4",
   "metadata": {},
   "outputs": [
    {
     "name": "stdout",
     "output_type": "stream",
     "text": [
      "5\n",
      "1\n",
      "15\n"
     ]
    }
   ],
   "source": [
    "t = (4, 5, 3, 2, 1)\n",
    "print(max(t))\n",
    "print(min(t))\n",
    "print(sum(t))"
   ]
  },
  {
   "cell_type": "markdown",
   "id": "401fcb5e",
   "metadata": {},
   "source": [
    "### Set\n",
    "\n",
    "| **Operation**        | **Description**                        | **Example**                             | **Output**                     |                     |\n",
    "| -------------------- | -------------------------------------- | --------------------------------------- | ------------------------------ | ------------------- |\n",
    "| Create a set         | Define with `{}`                       | `fruits = {\"apple\", \"banana\", \"mango\"}` | `{'apple', 'banana', 'mango'}` |                     |\n",
    "| Add element          | Add single item                        | `fruits.add(\"orange\")`                  | Adds 'orange'                  |                     |\n",
    "| Update set           | Add multiple items                     | `fruits.update([\"kiwi\", \"melon\"])`      | Adds multiple elements         |                     |\n",
    "| Remove element       | Remove item; raises error if missing   | `fruits.remove(\"banana\")`               | Removes 'banana'               |                     |\n",
    "| Discard element      | Remove item; no error if missing       | `fruits.discard(\"banana\")`              | Safe remove                    |                     |\n",
    "| Pop element          | Remove arbitrary element               | `fruits.pop()`                          | Returns removed item           |                     |\n",
    "| Clear set            | Remove all items                       | `fruits.clear()`                        | `set()`                        |                     |\n",
    "| Length of set        | Count items                            | `len(fruits)`                           | `3`                            |                     |\n",
    "| Union                | Combine sets                           | `A.union(B)` or \\`A                     | B\\`                            | All unique elements |\n",
    "| Intersection         | Common elements                        | `A.intersection(B)` or `A & B`          | Elements in both sets          |                     |\n",
    "| Difference           | Elements in A not in B                 | `A.difference(B)` or `A - B`            | Unique to A                    |                     |\n",
    "| Symmetric Difference | Elements in either A or B but not both | `A.symmetric_difference(B)` or `A ^ B`  | Non-overlapping elements       |                     |\n",
    "| Check existence      | Use `in` keyword                       | `'apple' in fruits`                     | `True`                         |                     |\n",
    "| Immutable Set        | `frozenset()`                          | `fs = frozenset([1,2,3])`               | Immutable set                  |                     |\n",
    "| Convert list to set  | Use `set()`                            | `set([1,2,2,3])`                        | `{1,2,3}`                      |                     |\n",
    "| Iterate              | Loop through items                     | `for f in fruits: print(f)`             | Prints elements                |                     |\n"
   ]
  },
  {
   "cell_type": "markdown",
   "id": "6f068c56",
   "metadata": {},
   "source": [
    "### Set"
   ]
  },
  {
   "cell_type": "code",
   "execution_count": null,
   "id": "6b978aba",
   "metadata": {},
   "outputs": [
    {
     "name": "stdout",
     "output_type": "stream",
     "text": [
      "{1, 2, 3}\n"
     ]
    }
   ],
   "source": [
    "s = {1, 2, 3}\n",
    "print(type(s))\n",
    "print(s)"
   ]
  },
  {
   "cell_type": "code",
   "execution_count": 91,
   "id": "84b06878",
   "metadata": {},
   "outputs": [
    {
     "name": "stdout",
     "output_type": "stream",
     "text": [
      "{1, 2, 3}\n",
      "{1, 2, 3, 4}\n",
      "{1, 2, 3, 4, 5, 6}\n",
      "{1, 2, 3, 4, 5, 6, 8, 9, 10}\n",
      "{2, 3, 4, 5, 6, 8, 9, 10}\n",
      "{3, 4, 5, 6, 8, 9, 10}\n",
      "{4, 5, 6, 8, 9, 10}\n",
      "set()\n"
     ]
    }
   ],
   "source": [
    "s = set([1, 2, 3, 1])\n",
    "print(s)\n",
    "\n",
    "s.add(4)\n",
    "print(s)\n",
    "\n",
    "s.update([5, 6, 1])\n",
    "print(s)\n",
    "\n",
    "s.update([8, 9], {10, 2, 3})\n",
    "print(s)\n",
    "\n",
    "s.discard(1)\n",
    "print(s)\n",
    "\n",
    "s.remove(2)\n",
    "print(s)\n",
    "\n",
    "s.pop()\n",
    "print(s)\n",
    "\n",
    "s.clear()\n",
    "print(s)"
   ]
  },
  {
   "cell_type": "markdown",
   "id": "f3fe08dd",
   "metadata": {},
   "source": [
    "#### Set Operations"
   ]
  },
  {
   "cell_type": "code",
   "execution_count": null,
   "id": "75e2b080",
   "metadata": {},
   "outputs": [
    {
     "name": "stdout",
     "output_type": "stream",
     "text": [
      "{1, 2, 3, 4, 5, 6, 7, 8}\n",
      "{1, 2, 3, 4, 5, 6, 7, 8}\n",
      "{4, 5}\n",
      "{4, 5}\n",
      "{1, 2, 3}\n",
      "{1, 2, 3}\n",
      "{1, 2, 3, 6, 7, 8}\n",
      "{1, 2, 3, 6, 7, 8}\n",
      "False\n",
      "False\n"
     ]
    }
   ],
   "source": [
    "set1 = {1, 2, 3, 4, 5}\n",
    "set2 = {4, 5, 6, 7, 8}\n",
    "\n",
    "print(set1 | set2)\n",
    "print(set1.union(set2))\n",
    "print(set1 & set2)\n",
    "print(set1.intersection(set2))\n",
    "print(set1 - set2)\n",
    "print(set1.difference(set2))\n",
    "print(set1 ^ set2)\n",
    "print(set1.symmetric_difference(set2))\n",
    "print(set1.issubset(set2))\n",
    "print(set2.issubset(set1))\n",
    "\n",
    "set1 = frozenset([1, 2, 3, 4, 5])\n",
    "set2 = frozenset([4, 5, 6, 7, 8])"
   ]
  },
  {
   "cell_type": "code",
   "execution_count": null,
   "id": "9ee043d1",
   "metadata": {},
   "outputs": [],
   "source": []
  }
 ],
 "metadata": {
  "kernelspec": {
   "display_name": "base",
   "language": "python",
   "name": "python3"
  },
  "language_info": {
   "codemirror_mode": {
    "name": "ipython",
    "version": 3
   },
   "file_extension": ".py",
   "mimetype": "text/x-python",
   "name": "python",
   "nbconvert_exporter": "python",
   "pygments_lexer": "ipython3",
   "version": "3.13.5"
  }
 },
 "nbformat": 4,
 "nbformat_minor": 5
}
