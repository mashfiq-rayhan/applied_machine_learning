{
 "cells": [
  {
   "cell_type": "code",
   "execution_count": null,
   "metadata": {
    "colab": {},
    "colab_type": "code",
    "id": "jfJQ0s3bswc_"
   },
   "outputs": [],
   "source": [
    "\n",
    "import numpy as np"
   ]
  },
  {
   "cell_type": "markdown",
   "metadata": {
    "colab_type": "text",
    "id": "jhQnKQ2KswdE"
   },
   "source": [
    "### Elementwise Operations"
   ]
  },
  {
   "cell_type": "markdown",
   "metadata": {
    "colab_type": "text",
    "id": "Wtu7cWpiswdF"
   },
   "source": [
    "**1. Basic Operations**"
   ]
  },
  {
   "cell_type": "markdown",
   "metadata": {
    "colab_type": "text",
    "id": "F-67X08fswdG"
   },
   "source": [
    "**with scalars**"
   ]
  },
  {
   "cell_type": "code",
   "execution_count": null,
   "metadata": {
    "colab": {},
    "colab_type": "code",
    "id": "dVy44XhoswdI",
    "outputId": "6c3aab05-af8d-4591-fbf2-298081a81356"
   },
   "outputs": [],
   "source": [
    "a = np.array([1, 2, 3, 4]) #create an array\n",
    "\n",
    "a + 1"
   ]
  },
  {
   "cell_type": "code",
   "execution_count": null,
   "metadata": {
    "colab": {},
    "colab_type": "code",
    "id": "C3xGq800swdO",
    "outputId": "edc11eed-3015-45f8-b477-14cbcf6f3590"
   },
   "outputs": [],
   "source": [
    "a ** 2"
   ]
  },
  {
   "cell_type": "markdown",
   "metadata": {
    "colab_type": "text",
    "id": "RUCgn5sWswdS"
   },
   "source": [
    "**All arithmetic operates elementwise**"
   ]
  },
  {
   "cell_type": "code",
   "execution_count": null,
   "metadata": {
    "colab": {},
    "colab_type": "code",
    "id": "8PnM4PU7swdT",
    "outputId": "dec9c525-340a-480c-859f-252e85b768bc"
   },
   "outputs": [],
   "source": [
    "b = np.ones(4) + 1\n",
    "\n",
    "a - b"
   ]
  },
  {
   "cell_type": "code",
   "execution_count": null,
   "metadata": {
    "colab": {},
    "colab_type": "code",
    "id": "rpXvbqFwswdX",
    "outputId": "6e10ebe8-378e-492c-9fe1-6e9dac1b1ae8"
   },
   "outputs": [],
   "source": [
    "a * b"
   ]
  },
  {
   "cell_type": "code",
   "execution_count": null,
   "metadata": {
    "colab": {},
    "colab_type": "code",
    "id": "2abVO_V_swdb",
    "outputId": "e8e3fd83-507b-40c5-ef18-26f4b11680fb"
   },
   "outputs": [],
   "source": [
    "# Matrix multiplication\n",
    "\n",
    "c = np.diag([1, 2, 3, 4])\n",
    "\n",
    "print(c * c)\n",
    "print(\"*****************\")\n",
    "print(c.dot(c))"
   ]
  },
  {
   "cell_type": "markdown",
   "metadata": {
    "colab_type": "text",
    "id": "WQJuiT1uswdf"
   },
   "source": [
    "**comparisions**"
   ]
  },
  {
   "cell_type": "code",
   "execution_count": null,
   "metadata": {
    "colab": {},
    "colab_type": "code",
    "id": "fjeX-CiOswdg",
    "outputId": "27e205a5-191a-49db-e6bd-5e8d37136ccd"
   },
   "outputs": [],
   "source": [
    "a = np.array([1, 2, 3, 4])\n",
    "b = np.array([5, 2, 2, 4])\n",
    "a == b"
   ]
  },
  {
   "cell_type": "code",
   "execution_count": null,
   "metadata": {
    "colab": {},
    "colab_type": "code",
    "id": "X8TTJ8A2swdk",
    "outputId": "a82a7c0f-aea4-4918-cfe8-364bc0c2c74a"
   },
   "outputs": [],
   "source": [
    "a > b"
   ]
  },
  {
   "cell_type": "code",
   "execution_count": null,
   "metadata": {
    "colab": {},
    "colab_type": "code",
    "id": "J6VVph4Qswdp",
    "outputId": "2a0d11bc-862a-40b0-e367-7308025a6115"
   },
   "outputs": [],
   "source": [
    "#array-wise comparisions\n",
    "a = np.array([1, 2, 3, 4])\n",
    "b = np.array([5, 2, 2, 4])\n",
    "c = np.array([1, 2, 3, 4])\n",
    "\n",
    "np.array_equal(a, b)"
   ]
  },
  {
   "cell_type": "code",
   "execution_count": null,
   "metadata": {
    "colab": {},
    "colab_type": "code",
    "id": "4WcN5_dEswds",
    "outputId": "17c720d1-8743-407b-c1c3-e8aa2cd06b56"
   },
   "outputs": [],
   "source": [
    "np.array_equal(a, c)"
   ]
  },
  {
   "cell_type": "markdown",
   "metadata": {
    "colab_type": "text",
    "id": "9zENvq0Eswdw"
   },
   "source": [
    "**Logical Operations**"
   ]
  },
  {
   "cell_type": "code",
   "execution_count": null,
   "metadata": {
    "colab": {},
    "colab_type": "code",
    "id": "1jnb4Oyoswdy",
    "outputId": "d846450e-26ec-46bf-e5e9-ee1130f85e0e"
   },
   "outputs": [],
   "source": [
    "a = np.array([1, 1, 0, 0], dtype=bool)\n",
    "b = np.array([1, 0, 1, 0], dtype=bool)\n",
    "\n",
    "np.logical_or(a, b)"
   ]
  },
  {
   "cell_type": "code",
   "execution_count": null,
   "metadata": {
    "colab": {},
    "colab_type": "code",
    "id": "0Y_BIY2sswd4",
    "outputId": "45b0f028-2953-4b41-f524-719fd0739263"
   },
   "outputs": [],
   "source": [
    "np.logical_and(a, b)"
   ]
  },
  {
   "cell_type": "markdown",
   "metadata": {
    "colab_type": "text",
    "id": "TphCEdOgswd_"
   },
   "source": [
    "**Transacendental functions:**"
   ]
  },
  {
   "cell_type": "code",
   "execution_count": null,
   "metadata": {
    "colab": {},
    "colab_type": "code",
    "id": "lRgKTcVYsweA",
    "outputId": "9d766b16-8896-4695-f408-2c22a2759eec"
   },
   "outputs": [],
   "source": [
    "a = np.arange(5)\n",
    "\n",
    "np.sin(a)   "
   ]
  },
  {
   "cell_type": "code",
   "execution_count": null,
   "metadata": {
    "colab": {},
    "colab_type": "code",
    "id": "o2WNaZYTsweG",
    "outputId": "09a4e071-9149-4cba-b220-977205f9877a"
   },
   "outputs": [],
   "source": [
    "np.log(a)"
   ]
  },
  {
   "cell_type": "code",
   "execution_count": null,
   "metadata": {
    "colab": {},
    "colab_type": "code",
    "id": "4BqEA2-6sweM",
    "outputId": "b07f6045-92eb-4536-cdf0-103316629e69"
   },
   "outputs": [],
   "source": [
    "np.exp(a)   #evaluates e^x for each element in a given input"
   ]
  },
  {
   "cell_type": "markdown",
   "metadata": {
    "colab_type": "text",
    "id": "ZTCX8P40sweR"
   },
   "source": [
    "**Shape Mismatch**"
   ]
  },
  {
   "cell_type": "code",
   "execution_count": null,
   "metadata": {
    "colab": {},
    "colab_type": "code",
    "id": "rEWPomresweR",
    "outputId": "45081b7d-d37a-4deb-a19a-8b56650517a6"
   },
   "outputs": [],
   "source": [
    "a = np.arange(4)\n",
    "\n",
    "a + np.array([1, 2])"
   ]
  },
  {
   "cell_type": "markdown",
   "metadata": {
    "colab_type": "text",
    "id": "9pyhkSfQsweW"
   },
   "source": [
    "### Basic Reductions"
   ]
  },
  {
   "cell_type": "markdown",
   "metadata": {
    "colab_type": "text",
    "id": "DHyoVepdsweX"
   },
   "source": [
    "**computing sums**"
   ]
  },
  {
   "cell_type": "code",
   "execution_count": null,
   "metadata": {
    "colab": {},
    "colab_type": "code",
    "id": "8Ed2Id_-sweY",
    "outputId": "a39f4cc1-d624-4430-daa0-2f5a7d78efb4"
   },
   "outputs": [],
   "source": [
    "x = np.array([1, 2, 3, 4])\n",
    "np.sum(x)"
   ]
  },
  {
   "cell_type": "code",
   "execution_count": null,
   "metadata": {
    "colab": {},
    "colab_type": "code",
    "id": "zRoRIgZqswed",
    "outputId": "c16ee400-36c0-4f13-fad0-4245ea0a46e0"
   },
   "outputs": [],
   "source": [
    "#sum by rows and by columns\n",
    "\n",
    "x = np.array([[1, 1], [2, 2]])\n",
    "x"
   ]
  },
  {
   "cell_type": "code",
   "execution_count": null,
   "metadata": {
    "colab": {},
    "colab_type": "code",
    "id": "_vP6O-E2sweh",
    "outputId": "3a2c7f40-3b1a-4741-83d7-adac98635e40"
   },
   "outputs": [],
   "source": [
    "x.sum(axis=0)   #columns first dimension"
   ]
  },
  {
   "cell_type": "code",
   "execution_count": null,
   "metadata": {
    "colab": {},
    "colab_type": "code",
    "id": "Tcuz_6SRswel",
    "outputId": "63fc6808-10da-4875-8245-816e28f5e570"
   },
   "outputs": [],
   "source": [
    "x.sum(axis=1)  #rows (second dimension)"
   ]
  },
  {
   "cell_type": "markdown",
   "metadata": {
    "colab_type": "text",
    "id": "958ZeK7bsweq"
   },
   "source": [
    "**Other reductions**"
   ]
  },
  {
   "cell_type": "code",
   "execution_count": null,
   "metadata": {
    "colab": {},
    "colab_type": "code",
    "id": "R5zUDMynswer",
    "outputId": "df848993-8198-42ea-e5f1-fe0618e3f271"
   },
   "outputs": [],
   "source": [
    "x = np.array([1, 3, 2])\n",
    "x.min()"
   ]
  },
  {
   "cell_type": "code",
   "execution_count": null,
   "metadata": {
    "colab": {},
    "colab_type": "code",
    "id": "kZtfLNX3swet",
    "outputId": "14c1c2bf-ffad-4cff-c761-0f1d88f841b4"
   },
   "outputs": [],
   "source": [
    "x.max()"
   ]
  },
  {
   "cell_type": "code",
   "execution_count": null,
   "metadata": {
    "colab": {},
    "colab_type": "code",
    "id": "AFmjGkYeswex",
    "outputId": "14cfd413-affd-44f9-a84c-1ced1c5ae5a6"
   },
   "outputs": [],
   "source": [
    "x.argmin()# index of minimum element"
   ]
  },
  {
   "cell_type": "code",
   "execution_count": null,
   "metadata": {
    "colab": {},
    "colab_type": "code",
    "id": "jZ1Kne4bswe0",
    "outputId": "e4476acf-16fa-44dd-edcb-84a926082b54"
   },
   "outputs": [],
   "source": [
    "x.argmax()# index of maximum element"
   ]
  },
  {
   "cell_type": "markdown",
   "metadata": {
    "colab_type": "text",
    "id": "HMjQrI2Xswe6"
   },
   "source": [
    "**Logical Operations**"
   ]
  },
  {
   "cell_type": "code",
   "execution_count": null,
   "metadata": {
    "colab": {},
    "colab_type": "code",
    "id": "yDdavXNvswe7",
    "outputId": "803c8e07-fcdb-4e58-a471-5f7fde649abe"
   },
   "outputs": [],
   "source": [
    "np.all([True, True, False])"
   ]
  },
  {
   "cell_type": "code",
   "execution_count": null,
   "metadata": {
    "colab": {},
    "colab_type": "code",
    "id": "pWQ5lldeswfA",
    "outputId": "898a10f8-6fc1-4780-8d30-10039821f77b"
   },
   "outputs": [],
   "source": [
    "np.any([True, False, False])"
   ]
  },
  {
   "cell_type": "code",
   "execution_count": null,
   "metadata": {
    "colab": {},
    "colab_type": "code",
    "id": "g7ZIbD4YswfD",
    "outputId": "b3e6eb8c-6864-4a3b-97b0-74a4a4efe79c"
   },
   "outputs": [],
   "source": [
    "#Note: can be used for array comparisions\n",
    "a = np.zeros((50, 50))\n",
    "np.any(a != 0)"
   ]
  },
  {
   "cell_type": "code",
   "execution_count": null,
   "metadata": {
    "colab": {},
    "colab_type": "code",
    "id": "zinI9W8hswfH",
    "outputId": "601d26ae-d373-4f22-f313-2452f600107b"
   },
   "outputs": [],
   "source": [
    "np.all(a == a)"
   ]
  },
  {
   "cell_type": "code",
   "execution_count": null,
   "metadata": {
    "colab": {},
    "colab_type": "code",
    "id": "HuTF_mToswfL",
    "outputId": "7363a182-2b8b-4e2c-c6a8-066318e563ed"
   },
   "outputs": [],
   "source": [
    "a = np.array([1, 2, 3, 2])\n",
    "b = np.array([2, 2, 3, 2])\n",
    "c = np.array([6, 4, 4, 5])\n",
    "((a <= b) & (b <= c)).all()"
   ]
  },
  {
   "cell_type": "markdown",
   "metadata": {
    "colab_type": "text",
    "id": "APsZAg7_swfO"
   },
   "source": [
    "**Statistics**"
   ]
  },
  {
   "cell_type": "code",
   "execution_count": null,
   "metadata": {
    "colab": {},
    "colab_type": "code",
    "id": "cjoteMjGswfP",
    "outputId": "ccc68f0b-c334-4667-f18f-97758bfe32d5"
   },
   "outputs": [],
   "source": [
    "x = np.array([1, 2, 3, 1])\n",
    "y = np.array([[1, 2, 3], [5, 6, 1]])\n",
    "x.mean()"
   ]
  },
  {
   "cell_type": "code",
   "execution_count": null,
   "metadata": {
    "colab": {},
    "colab_type": "code",
    "id": "JXWE8ldfswfV",
    "outputId": "bf404199-5602-442b-98fd-23ad1e5e26f5"
   },
   "outputs": [],
   "source": [
    "np.median(x)"
   ]
  },
  {
   "cell_type": "code",
   "execution_count": null,
   "metadata": {
    "colab": {},
    "colab_type": "code",
    "id": "uiBhX8Ktswfj",
    "outputId": "b162f7f7-2b25-429d-f5f3-c0592c793aa8"
   },
   "outputs": [],
   "source": [
    "np.median(y, axis=-1) # last axis"
   ]
  },
  {
   "cell_type": "code",
   "execution_count": null,
   "metadata": {
    "colab": {},
    "colab_type": "code",
    "id": "Cy3p6_0nswfo",
    "outputId": "4c5b7639-7e09-47a5-8cd1-e1dfa07325d1"
   },
   "outputs": [],
   "source": [
    "x.std()          # full population standard dev."
   ]
  },
  {
   "cell_type": "markdown",
   "metadata": {
    "colab_type": "text",
    "id": "UmJ61pVXswfu"
   },
   "source": [
    "**Example:**"
   ]
  },
  {
   "cell_type": "markdown",
   "metadata": {
    "colab_type": "text",
    "id": "anUWifpEswfx"
   },
   "source": [
    "Data in populations.txt describes the populations of hares and lynxes (and carrots) in northern Canada during 20 years.\n"
   ]
  },
  {
   "cell_type": "code",
   "execution_count": null,
   "metadata": {
    "colab": {},
    "colab_type": "code",
    "id": "rnVBTztnswfy"
   },
   "outputs": [],
   "source": [
    "#load data into numpy array object\n",
    "data = np.loadtxt('populations.txt')"
   ]
  },
  {
   "cell_type": "code",
   "execution_count": null,
   "metadata": {
    "colab": {},
    "colab_type": "code",
    "id": "P6namKkVswf1",
    "outputId": "fd6bc8a1-2b47-4be3-e7a3-a9073a2fdda9"
   },
   "outputs": [],
   "source": [
    "data"
   ]
  },
  {
   "cell_type": "code",
   "execution_count": null,
   "metadata": {
    "colab": {},
    "colab_type": "code",
    "id": "QmlBep1Mswf5",
    "outputId": "c1b341fc-c8c2-43bd-8b74-522f36336074"
   },
   "outputs": [],
   "source": [
    "year, hares, lynxes, carrots = data.T #columns to variables\n",
    "print(year)"
   ]
  },
  {
   "cell_type": "code",
   "execution_count": null,
   "metadata": {
    "colab": {},
    "colab_type": "code",
    "id": "rK1BKEoyswgD",
    "outputId": "39556379-8632-4f4b-bc1a-619afce30f6e"
   },
   "outputs": [],
   "source": [
    "#The mean population over time\n",
    "populations = data[:, 1:]\n",
    "populations"
   ]
  },
  {
   "cell_type": "code",
   "execution_count": null,
   "metadata": {
    "colab": {},
    "colab_type": "code",
    "id": "x9fl1SFuswgI",
    "outputId": "d35111fd-9329-484f-8d9a-07310f2fbe2d"
   },
   "outputs": [],
   "source": [
    "#sample standard deviations\n",
    "populations.std(axis=0)"
   ]
  },
  {
   "cell_type": "code",
   "execution_count": null,
   "metadata": {
    "colab": {},
    "colab_type": "code",
    "id": "JuRAVBQZswgT",
    "outputId": "dddefc54-8d1b-4b01-990c-dea4068cab56"
   },
   "outputs": [],
   "source": [
    "#which species has the highest population each year?\n",
    "\n",
    "np.argmax(populations, axis=1)"
   ]
  },
  {
   "cell_type": "markdown",
   "metadata": {
    "colab_type": "text",
    "id": "tU_ZXk-TswgY"
   },
   "source": [
    "### Broadcasting"
   ]
  },
  {
   "cell_type": "markdown",
   "metadata": {
    "colab_type": "text",
    "id": "9YhDQLkMswga"
   },
   "source": [
    "Basic operations on numpy arrays (addition, etc.) are elementwise\n",
    "\n",
    "This works on arrays of the same size.\n",
    "    Nevertheless, It’s also possible to do operations on arrays of different sizes if NumPy can transform these arrays     so that they all have the same size: this conversion is called broadcasting.\n",
    "\n",
    "The image below gives an example of broadcasting:"
   ]
  },
  {
   "cell_type": "markdown",
   "metadata": {
    "colab_type": "text",
    "id": "ikjmauQzswgc"
   },
   "source": [
    "![title](broadcasting.png)"
   ]
  },
  {
   "cell_type": "code",
   "execution_count": null,
   "metadata": {
    "colab": {},
    "colab_type": "code",
    "id": "nI5avDtJswgd",
    "outputId": "4514d3c2-a38d-4750-d6f3-8a709b40df7f"
   },
   "outputs": [],
   "source": [
    "a = np.tile(np.arange(0, 40, 10), (3,1))\n",
    "print(a)\n",
    "\n",
    "print(\"*************\")\n",
    "a=a.T\n",
    "print(a)"
   ]
  },
  {
   "cell_type": "code",
   "execution_count": null,
   "metadata": {
    "colab": {},
    "colab_type": "code",
    "id": "cLIID2BSswgf",
    "outputId": "066926e7-77bd-4116-a878-3b885f0fd7a1"
   },
   "outputs": [],
   "source": [
    "\n",
    "b = np.array([0, 1, 2])\n",
    "b"
   ]
  },
  {
   "cell_type": "code",
   "execution_count": null,
   "metadata": {
    "colab": {},
    "colab_type": "code",
    "id": "jQrV3eHlswgh",
    "outputId": "a580a35e-ab46-409c-92b6-55dca012c40c"
   },
   "outputs": [],
   "source": [
    "\n",
    "a + b"
   ]
  },
  {
   "cell_type": "code",
   "execution_count": null,
   "metadata": {
    "colab": {},
    "colab_type": "code",
    "id": "O46UzhDpswgj",
    "outputId": "ca8ff2f1-13e9-4ba9-aaa4-e724236b2436"
   },
   "outputs": [],
   "source": [
    "a = np.arange(0, 40, 10)\n",
    "a.shape\n"
   ]
  },
  {
   "cell_type": "code",
   "execution_count": null,
   "metadata": {
    "colab": {},
    "colab_type": "code",
    "id": "OgkzL1i9swgl",
    "outputId": "98ee71d0-ef8e-47c0-af1a-c197cfbec692"
   },
   "outputs": [],
   "source": [
    "a = a[:, np.newaxis]  # adds a new axis -> 2D array\n",
    "a.shape"
   ]
  },
  {
   "cell_type": "code",
   "execution_count": null,
   "metadata": {
    "colab": {},
    "colab_type": "code",
    "id": "PQiWxq-6swgq",
    "outputId": "b4ef9569-1bc8-4b4b-8a6a-30b75e6bf889"
   },
   "outputs": [],
   "source": [
    "a"
   ]
  },
  {
   "cell_type": "code",
   "execution_count": null,
   "metadata": {
    "colab": {},
    "colab_type": "code",
    "id": "tsUMMhVMswgw",
    "outputId": "1eccf526-2b25-45b1-a67f-b70ffe346c2d"
   },
   "outputs": [],
   "source": [
    "a + b"
   ]
  },
  {
   "cell_type": "markdown",
   "metadata": {
    "colab_type": "text",
    "id": "j_PyiHoLswgz"
   },
   "source": [
    "### Array Shape Manipulation"
   ]
  },
  {
   "cell_type": "markdown",
   "metadata": {
    "colab_type": "text",
    "id": "k_PleE7Tswgz"
   },
   "source": [
    "**Flattening**"
   ]
  },
  {
   "cell_type": "code",
   "execution_count": null,
   "metadata": {
    "colab": {},
    "colab_type": "code",
    "id": "ZCNm05mWswg0",
    "outputId": "18403ccc-45db-4e09-8e67-6b268246b278"
   },
   "outputs": [],
   "source": [
    "a = np.array([[1, 2, 3], [4, 5, 6]])\n",
    "a.ravel() #Return a contiguous flattened array. A 1-D array, containing the elements of the input, is returned. A copy is made only if needed."
   ]
  },
  {
   "cell_type": "code",
   "execution_count": null,
   "metadata": {
    "colab": {},
    "colab_type": "code",
    "id": "vDHkkj_Cswg2",
    "outputId": "e09bd4e6-d56c-4040-b5a1-dea2b20767fa"
   },
   "outputs": [],
   "source": [
    "a.T #Transpose"
   ]
  },
  {
   "cell_type": "code",
   "execution_count": null,
   "metadata": {
    "colab": {},
    "colab_type": "code",
    "id": "OQwnB4jMswg7",
    "outputId": "d31964f8-cb74-4547-c2a2-7969288282f6"
   },
   "outputs": [],
   "source": [
    "a.T.ravel()"
   ]
  },
  {
   "cell_type": "markdown",
   "metadata": {
    "colab_type": "text",
    "id": "IfyMcSqWswhA"
   },
   "source": [
    "**Reshaping**"
   ]
  },
  {
   "cell_type": "markdown",
   "metadata": {
    "colab_type": "text",
    "id": "QcaiZZ7mswhA"
   },
   "source": [
    "The inverse operation to flattening:"
   ]
  },
  {
   "cell_type": "code",
   "execution_count": null,
   "metadata": {
    "colab": {},
    "colab_type": "code",
    "id": "MA6cntc9swhC",
    "outputId": "a4aa22e7-1095-4349-b306-56000f8ae7ee"
   },
   "outputs": [],
   "source": [
    "print(a.shape)\n",
    "print(a)"
   ]
  },
  {
   "cell_type": "code",
   "execution_count": null,
   "metadata": {
    "colab": {},
    "colab_type": "code",
    "id": "hhJauR24swhE",
    "outputId": "e52e66cf-8c93-4769-909b-82137650ab36"
   },
   "outputs": [],
   "source": [
    "b = a.ravel()\n",
    "print(b)"
   ]
  },
  {
   "cell_type": "code",
   "execution_count": null,
   "metadata": {
    "colab": {},
    "colab_type": "code",
    "id": "vXbnz73uswhG",
    "outputId": "db52a819-25c3-45fd-dfb4-372e72cfb8fe"
   },
   "outputs": [],
   "source": [
    "b = b.reshape((2, 3))\n",
    "b"
   ]
  },
  {
   "cell_type": "code",
   "execution_count": null,
   "metadata": {
    "colab": {},
    "colab_type": "code",
    "id": "TNr-WvUzswhI",
    "outputId": "13a740fd-c250-4a21-fa13-3a2cd8fce06f"
   },
   "outputs": [],
   "source": [
    "b[0, 0] = 100\n",
    "a"
   ]
  },
  {
   "cell_type": "markdown",
   "metadata": {
    "colab_type": "text",
    "id": "_Y5EeOeJswhL"
   },
   "source": [
    "**Note and       Beware: reshape may also return a copy!:**"
   ]
  },
  {
   "cell_type": "code",
   "execution_count": null,
   "metadata": {
    "colab": {},
    "colab_type": "code",
    "id": "tf1F72vHswhL",
    "outputId": "0726a4b2-566e-4628-cc19-8b894cb40c18"
   },
   "outputs": [],
   "source": [
    "a = np.zeros((3, 2))\n",
    "b = a.T.reshape(3*2)\n",
    "b[0] = 50\n",
    "a"
   ]
  },
  {
   "cell_type": "markdown",
   "metadata": {
    "colab_type": "text",
    "id": "4pnFgWaTswhO"
   },
   "source": [
    "**Adding a Dimension**"
   ]
  },
  {
   "cell_type": "markdown",
   "metadata": {
    "colab_type": "text",
    "id": "b3x7GDphswhP"
   },
   "source": [
    "Indexing with the np.newaxis object allows us to add an axis to an array"
   ]
  },
  {
   "cell_type": "markdown",
   "metadata": {
    "colab_type": "text",
    "id": "zWZFOfB0swhP"
   },
   "source": [
    "newaxis is used to increase the dimension of the existing array by one more dimension, when used once. Thus,\n",
    "\n",
    "1D array will become 2D array\n",
    "\n",
    "2D array will become 3D array\n",
    "\n",
    "3D array will become 4D array and so on"
   ]
  },
  {
   "cell_type": "code",
   "execution_count": null,
   "metadata": {
    "colab": {},
    "colab_type": "code",
    "id": "DuHUdNLoswhP",
    "outputId": "40fb60a7-c44c-41fa-9be8-09ec5468c6a7"
   },
   "outputs": [],
   "source": [
    "z = np.array([1, 2, 3])\n",
    "z"
   ]
  },
  {
   "cell_type": "code",
   "execution_count": null,
   "metadata": {
    "colab": {},
    "colab_type": "code",
    "id": "f48pj0JMswhT",
    "outputId": "546f6836-b251-4812-f7b2-cf0461d13178"
   },
   "outputs": [],
   "source": [
    "z[:, np.newaxis]"
   ]
  },
  {
   "cell_type": "markdown",
   "metadata": {
    "colab_type": "text",
    "id": "Wy-2k9NjswhW"
   },
   "source": [
    "**Dimension Shuffling**"
   ]
  },
  {
   "cell_type": "code",
   "execution_count": null,
   "metadata": {
    "colab": {},
    "colab_type": "code",
    "id": "MSTSN5IoswhZ",
    "outputId": "3c1a1132-68f4-4f3b-bb40-c46ab734643a"
   },
   "outputs": [],
   "source": [
    "a = np.arange(4*3*2).reshape(4, 3, 2)\n",
    "a.shape"
   ]
  },
  {
   "cell_type": "code",
   "execution_count": null,
   "metadata": {
    "colab": {},
    "colab_type": "code",
    "id": "-i_qw-2Bswhd",
    "outputId": "dd25efea-7155-4b62-efd2-c069cc0f73c1"
   },
   "outputs": [],
   "source": [
    "a"
   ]
  },
  {
   "cell_type": "code",
   "execution_count": null,
   "metadata": {
    "colab": {},
    "colab_type": "code",
    "id": "sFfdpnwxswhg",
    "outputId": "a7f25bdc-c56c-4981-a8ab-ce1627bfd005"
   },
   "outputs": [],
   "source": [
    "a[0, 2, 1]"
   ]
  },
  {
   "cell_type": "markdown",
   "metadata": {
    "colab_type": "text",
    "id": "2lFLuLyjswhk"
   },
   "source": [
    "**Resizing**"
   ]
  },
  {
   "cell_type": "code",
   "execution_count": null,
   "metadata": {
    "colab": {},
    "colab_type": "code",
    "id": "Yi9xEsTdswhl",
    "outputId": "f11c0809-c403-41c9-eaf0-e3f4c90469d8"
   },
   "outputs": [],
   "source": [
    "a = np.arange(4)\n",
    "a.resize((8,))\n",
    "a"
   ]
  },
  {
   "cell_type": "markdown",
   "metadata": {
    "colab_type": "text",
    "id": "L32_TKH-swhp"
   },
   "source": [
    "However, it must not be referred to somewhere else:"
   ]
  },
  {
   "cell_type": "code",
   "execution_count": null,
   "metadata": {
    "colab": {},
    "colab_type": "code",
    "id": "n03o_7jKswhq",
    "outputId": "591c6728-d9cd-439f-8287-fce70a25ea2a"
   },
   "outputs": [],
   "source": [
    "b = a\n",
    "a.resize((4,)) "
   ]
  },
  {
   "cell_type": "markdown",
   "metadata": {
    "colab_type": "text",
    "id": "xm598Xkxswhs"
   },
   "source": [
    "**Sorting Data**"
   ]
  },
  {
   "cell_type": "code",
   "execution_count": null,
   "metadata": {
    "colab": {},
    "colab_type": "code",
    "id": "iM9Y-4wfswhs",
    "outputId": "417dc55e-8b88-4d3b-c46c-e15aa1f99dcc"
   },
   "outputs": [],
   "source": [
    "#Sorting along an axis:\n",
    "a = np.array([[5, 4, 6], [2, 3, 2]])\n",
    "b = np.sort(a, axis=1)\n",
    "b"
   ]
  },
  {
   "cell_type": "code",
   "execution_count": null,
   "metadata": {
    "colab": {},
    "colab_type": "code",
    "id": "Z8gWeYynswhw",
    "outputId": "51b6c0f4-bc6e-443f-84ce-dccca9039bc3"
   },
   "outputs": [],
   "source": [
    "#in-place sort\n",
    "a.sort(axis=1)\n",
    "a"
   ]
  },
  {
   "cell_type": "code",
   "execution_count": null,
   "metadata": {
    "colab": {},
    "colab_type": "code",
    "id": "DSSbH76aswh1",
    "outputId": "6a5e8098-e5c1-4298-bf36-982d5fa9b9ba"
   },
   "outputs": [],
   "source": [
    "#sorting with fancy indexing\n",
    "a = np.array([4, 3, 1, 2])\n",
    "j = np.argsort(a)\n",
    "j"
   ]
  },
  {
   "cell_type": "code",
   "execution_count": null,
   "metadata": {
    "colab": {},
    "colab_type": "code",
    "id": "CtBWBS5Qswh3",
    "outputId": "c802fde5-cac6-4495-b3f6-e4c66dbfbb3f"
   },
   "outputs": [],
   "source": [
    "a[j]"
   ]
  }
 ],
 "metadata": {
  "colab": {
   "name": "numerical_operations_on_array.ipynb",
   "provenance": []
  },
  "kernelspec": {
   "display_name": "Python 3",
   "language": "python",
   "name": "python3"
  }
 },
 "nbformat": 4,
 "nbformat_minor": 0
}
